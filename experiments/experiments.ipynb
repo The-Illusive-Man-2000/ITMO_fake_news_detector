{
 "cells": [
  {
   "cell_type": "markdown",
   "metadata": {},
   "source": [
    "## Обучение SVC +USE"
   ]
  },
  {
   "cell_type": "markdown",
   "metadata": {},
   "source": [
    "#### Задача: Определить является ли новость фэйковой по заголовку\n",
    "#### Данные: Заголовки новостных статей, метка 1/0 - фэйк/не фэйк"
   ]
  },
  {
   "cell_type": "markdown",
   "metadata": {},
   "source": [
    "### Содержание:\n",
    "    1. Подгрузка и анализ данных\n",
    "    2. Подготовка пайпа для подбора гиперпараметров для SVC и LogReg\n",
    "    3. USE+SVC\n",
    "    4. Дообучим bert сеть на основе предобученной модели cointegrated/rubert-tiny в отдельном проекте\n",
    "    5. Выводы"
   ]
  },
  {
   "cell_type": "code",
   "execution_count": 2,
   "metadata": {},
   "outputs": [],
   "source": [
    "import re\n",
    "from pathlib import Path\n",
    "\n",
    "import numpy as np\n",
    "import pandas as pd\n",
    "import spacy\n",
    "import tensorflow as tf\n",
    "import tensorflow_hub as hub\n",
    "from matplotlib import pyplot as plt\n",
    "from sklearn.feature_extraction.text import TfidfVectorizer\n",
    "from sklearn.metrics import f1_score\n",
    "from sklearn.model_selection import train_test_split, GridSearchCV\n",
    "from sklearn.pipeline import FeatureUnion\n",
    "from sklearn.svm import SVC\n",
    "from tqdm import tqdm\n",
    "\n",
    "\n",
    "%matplotlib inline"
   ]
  },
  {
   "cell_type": "code",
   "execution_count": null,
   "metadata": {
    "scrolled": true
   },
   "outputs": [],
   "source": [
    "#качаем модель для русского языка\n",
    "!python3 -m spacy download ru_core_news_sm"
   ]
  },
  {
   "cell_type": "markdown",
   "metadata": {},
   "source": [
    "## Подгрузка и анализ данных"
   ]
  },
  {
   "cell_type": "code",
   "execution_count": null,
   "metadata": {},
   "outputs": [],
   "source": [
    "# поднимаем модель\n",
    "nlp = spacy.load('ru_core_news_sm')"
   ]
  },
  {
   "cell_type": "code",
   "execution_count": 11,
   "metadata": {},
   "outputs": [],
   "source": [
    "DATA_PATH = Path().cwd().parent.joinpath('data')"
   ]
  },
  {
   "cell_type": "code",
   "execution_count": 12,
   "metadata": {},
   "outputs": [],
   "source": [
    "# подгружаем датасет и разбиваем его на train/test с сохранением пропрции классов\n",
    "df = pd.read_csv(DATA_PATH.joinpath('train.tsv'), sep='\\t')\n",
    "\n",
    "df_train, df_test = train_test_split(df, test_size=0.2, random_state=42, stratify=df['is_fake'])"
   ]
  },
  {
   "cell_type": "code",
   "execution_count": 13,
   "metadata": {},
   "outputs": [
    {
     "data": {
      "text/html": [
       "<style  type=\"text/css\" >\n",
       "    #T_b4b2428e_592f_11ed_a3e1_215fc3466fbdrow0_col0 {\n",
       "            width-min:  300px;\n",
       "        }    #T_b4b2428e_592f_11ed_a3e1_215fc3466fbdrow1_col0 {\n",
       "            width-min:  300px;\n",
       "        }    #T_b4b2428e_592f_11ed_a3e1_215fc3466fbdrow2_col0 {\n",
       "            width-min:  300px;\n",
       "        }    #T_b4b2428e_592f_11ed_a3e1_215fc3466fbdrow3_col0 {\n",
       "            width-min:  300px;\n",
       "        }    #T_b4b2428e_592f_11ed_a3e1_215fc3466fbdrow4_col0 {\n",
       "            width-min:  300px;\n",
       "        }    #T_b4b2428e_592f_11ed_a3e1_215fc3466fbdrow5_col0 {\n",
       "            width-min:  300px;\n",
       "        }    #T_b4b2428e_592f_11ed_a3e1_215fc3466fbdrow6_col0 {\n",
       "            width-min:  300px;\n",
       "        }    #T_b4b2428e_592f_11ed_a3e1_215fc3466fbdrow7_col0 {\n",
       "            width-min:  300px;\n",
       "        }    #T_b4b2428e_592f_11ed_a3e1_215fc3466fbdrow8_col0 {\n",
       "            width-min:  300px;\n",
       "        }    #T_b4b2428e_592f_11ed_a3e1_215fc3466fbdrow9_col0 {\n",
       "            width-min:  300px;\n",
       "        }</style><table id=\"T_b4b2428e_592f_11ed_a3e1_215fc3466fbd\" ><thead>    <tr>        <th class=\"blank level0\" ></th>        <th class=\"col_heading level0 col0\" >title</th>        <th class=\"col_heading level0 col1\" >is_fake</th>    </tr></thead><tbody>\n",
       "                <tr>\n",
       "                        <th id=\"T_b4b2428e_592f_11ed_a3e1_215fc3466fbdlevel0_row0\" class=\"row_heading level0 row0\" >1496</th>\n",
       "                        <td id=\"T_b4b2428e_592f_11ed_a3e1_215fc3466fbdrow0_col0\" class=\"data row0 col0\" >Песня со словами «Не нужен мне берег турецкий» стала новым гимном Ростуризма</td>\n",
       "                        <td id=\"T_b4b2428e_592f_11ed_a3e1_215fc3466fbdrow0_col1\" class=\"data row0 col1\" >1</td>\n",
       "            </tr>\n",
       "            <tr>\n",
       "                        <th id=\"T_b4b2428e_592f_11ed_a3e1_215fc3466fbdlevel0_row1\" class=\"row_heading level0 row1\" >507</th>\n",
       "                        <td id=\"T_b4b2428e_592f_11ed_a3e1_215fc3466fbdrow1_col0\" class=\"data row1 col0\" >Подозреваемого в многомиллиардной растрате трейдера UBS задержали</td>\n",
       "                        <td id=\"T_b4b2428e_592f_11ed_a3e1_215fc3466fbdrow1_col1\" class=\"data row1 col1\" >0</td>\n",
       "            </tr>\n",
       "            <tr>\n",
       "                        <th id=\"T_b4b2428e_592f_11ed_a3e1_215fc3466fbdlevel0_row2\" class=\"row_heading level0 row2\" >5699</th>\n",
       "                        <td id=\"T_b4b2428e_592f_11ed_a3e1_215fc3466fbdrow2_col0\" class=\"data row2 col0\" >Новая работа Германа Стерлигова, новая роль Михаила Ефремова, новый башкирский штамм коронавируса и статус Талибана* в нашей традиционной рубрике «Панорама недели»</td>\n",
       "                        <td id=\"T_b4b2428e_592f_11ed_a3e1_215fc3466fbdrow2_col1\" class=\"data row2 col1\" >1</td>\n",
       "            </tr>\n",
       "            <tr>\n",
       "                        <th id=\"T_b4b2428e_592f_11ed_a3e1_215fc3466fbdlevel0_row3\" class=\"row_heading level0 row3\" >1779</th>\n",
       "                        <td id=\"T_b4b2428e_592f_11ed_a3e1_215fc3466fbdrow3_col0\" class=\"data row3 col0\" >Сенсорный смартфон Palm Pre поступил в продажу</td>\n",
       "                        <td id=\"T_b4b2428e_592f_11ed_a3e1_215fc3466fbdrow3_col1\" class=\"data row3 col1\" >0</td>\n",
       "            </tr>\n",
       "            <tr>\n",
       "                        <th id=\"T_b4b2428e_592f_11ed_a3e1_215fc3466fbdlevel0_row4\" class=\"row_heading level0 row4\" >1684</th>\n",
       "                        <td id=\"T_b4b2428e_592f_11ed_a3e1_215fc3466fbdrow4_col0\" class=\"data row4 col0\" >В хабаровском зоопарке рысь обматерила посетителей</td>\n",
       "                        <td id=\"T_b4b2428e_592f_11ed_a3e1_215fc3466fbdrow4_col1\" class=\"data row4 col1\" >1</td>\n",
       "            </tr>\n",
       "            <tr>\n",
       "                        <th id=\"T_b4b2428e_592f_11ed_a3e1_215fc3466fbdlevel0_row5\" class=\"row_heading level0 row5\" >5753</th>\n",
       "                        <td id=\"T_b4b2428e_592f_11ed_a3e1_215fc3466fbdrow5_col0\" class=\"data row5 col0\" >Эдди Чемберс получил сотрясение мозга в бою с Кличко</td>\n",
       "                        <td id=\"T_b4b2428e_592f_11ed_a3e1_215fc3466fbdrow5_col1\" class=\"data row5 col1\" >0</td>\n",
       "            </tr>\n",
       "            <tr>\n",
       "                        <th id=\"T_b4b2428e_592f_11ed_a3e1_215fc3466fbdlevel0_row6\" class=\"row_heading level0 row6\" >1121</th>\n",
       "                        <td id=\"T_b4b2428e_592f_11ed_a3e1_215fc3466fbdrow6_col0\" class=\"data row6 col0\" >С 1 мая аккредитация журналистов в Госдуме не распространяется на столовую</td>\n",
       "                        <td id=\"T_b4b2428e_592f_11ed_a3e1_215fc3466fbdrow6_col1\" class=\"data row6 col1\" >1</td>\n",
       "            </tr>\n",
       "            <tr>\n",
       "                        <th id=\"T_b4b2428e_592f_11ed_a3e1_215fc3466fbdlevel0_row7\" class=\"row_heading level0 row7\" >5471</th>\n",
       "                        <td id=\"T_b4b2428e_592f_11ed_a3e1_215fc3466fbdrow7_col0\" class=\"data row7 col0\" >ФАС запретила Apple продавать iPhone 13 в России дороже 25 тысяч рублей</td>\n",
       "                        <td id=\"T_b4b2428e_592f_11ed_a3e1_215fc3466fbdrow7_col1\" class=\"data row7 col1\" >1</td>\n",
       "            </tr>\n",
       "            <tr>\n",
       "                        <th id=\"T_b4b2428e_592f_11ed_a3e1_215fc3466fbdlevel0_row8\" class=\"row_heading level0 row8\" >5325</th>\n",
       "                        <td id=\"T_b4b2428e_592f_11ed_a3e1_215fc3466fbdrow8_col0\" class=\"data row8 col0\" >В Перми арестовали учителя труда, который обучал детей программированию</td>\n",
       "                        <td id=\"T_b4b2428e_592f_11ed_a3e1_215fc3466fbdrow8_col1\" class=\"data row8 col1\" >1</td>\n",
       "            </tr>\n",
       "            <tr>\n",
       "                        <th id=\"T_b4b2428e_592f_11ed_a3e1_215fc3466fbdlevel0_row9\" class=\"row_heading level0 row9\" >3959</th>\n",
       "                        <td id=\"T_b4b2428e_592f_11ed_a3e1_215fc3466fbdrow9_col0\" class=\"data row9 col0\" >Овечкин набрал два очка в матче НХЛ</td>\n",
       "                        <td id=\"T_b4b2428e_592f_11ed_a3e1_215fc3466fbdrow9_col1\" class=\"data row9 col1\" >0</td>\n",
       "            </tr>\n",
       "    </tbody></table>"
      ],
      "text/plain": [
       "<pandas.io.formats.style.Styler at 0x7fa8503c9890>"
      ]
     },
     "execution_count": 13,
     "metadata": {},
     "output_type": "execute_result"
    }
   ],
   "source": [
    "df_train.sample(10).style.set_properties(subset=[\"title\"], **{\"width-min\": \"300px\"})"
   ]
  },
  {
   "cell_type": "markdown",
   "metadata": {},
   "source": [
    "#### Беглый анализ выборок"
   ]
  },
  {
   "cell_type": "code",
   "execution_count": 14,
   "metadata": {},
   "outputs": [
    {
     "name": "stdout",
     "output_type": "stream",
     "text": [
      "<class 'pandas.core.frame.DataFrame'>\n",
      "Int64Index: 4606 entries, 4393 to 2383\n",
      "Data columns (total 2 columns):\n",
      "title      4606 non-null object\n",
      "is_fake    4606 non-null int64\n",
      "dtypes: int64(1), object(1)\n",
      "memory usage: 108.0+ KB\n"
     ]
    }
   ],
   "source": [
    "df_train.info()"
   ]
  },
  {
   "cell_type": "code",
   "execution_count": 17,
   "metadata": {},
   "outputs": [
    {
     "name": "stdout",
     "output_type": "stream",
     "text": [
      "<class 'pandas.core.frame.DataFrame'>\n",
      "Int64Index: 1152 entries, 1959 to 1215\n",
      "Data columns (total 2 columns):\n",
      "title      1152 non-null object\n",
      "is_fake    1152 non-null int64\n",
      "dtypes: int64(1), object(1)\n",
      "memory usage: 27.0+ KB\n"
     ]
    }
   ],
   "source": [
    "df_test.info()"
   ]
  },
  {
   "cell_type": "code",
   "execution_count": 18,
   "metadata": {},
   "outputs": [
    {
     "data": {
      "text/plain": [
       "1    2303\n",
       "0    2303\n",
       "Name: is_fake, dtype: int64"
      ]
     },
     "execution_count": 18,
     "metadata": {},
     "output_type": "execute_result"
    }
   ],
   "source": [
    "df_train.is_fake.value_counts()"
   ]
  },
  {
   "cell_type": "code",
   "execution_count": 15,
   "metadata": {},
   "outputs": [],
   "source": [
    "# подсчет длин предложений (по количеству слов) для гистограммы\n",
    "sentence_lenghts = [len(x.split(' ')) for x in df_train.title.values.tolist()]"
   ]
  },
  {
   "cell_type": "code",
   "execution_count": 16,
   "metadata": {},
   "outputs": [
    {
     "data": {
      "text/plain": [
       "(array([ 17.,  88., 311., 555., 698., 761., 658., 455., 381., 259., 169.,\n",
       "        106.,  60.,  32.,  18.,   9.,   6.,   6.,   6.,   2.,   6.,   0.,\n",
       "          2.]),\n",
       " array([ 3,  4,  5,  6,  7,  8,  9, 10, 11, 12, 13, 14, 15, 16, 17, 18, 19,\n",
       "        20, 21, 22, 23, 24, 25, 26]),\n",
       " <BarContainer object of 23 artists>)"
      ]
     },
     "execution_count": 16,
     "metadata": {},
     "output_type": "execute_result"
    },
    {
     "data": {
      "image/png": "[encoded data removed]",
      "text/plain": [
       "<Figure size 432x288 with 1 Axes>"
      ]
     },
     "metadata": {
      "needs_background": "light"
     },
     "output_type": "display_data"
    }
   ],
   "source": [
    "plt.hist(sentence_lenghts, bins=range(min(sentence_lenghts), max(sentence_lenghts)))"
   ]
  },
  {
   "cell_type": "markdown",
   "metadata": {},
   "source": [
    "#### Выборки сбалансированы, тексты короткие, будем использовать простую предобработку с минимальными изменениями исходных текстов "
   ]
  },
  {
   "cell_type": "code",
   "execution_count": 17,
   "metadata": {},
   "outputs": [],
   "source": [
    "def text_process(text):\n",
    "    text = text.lower()\n",
    "    # удаляем пунктуацию\n",
    "    text = re.sub(r'[^\\w0-9\\s]', '', text)\n",
    "    # удаляем числа\n",
    "    text = re.sub(r'\\d+', '', text)\n",
    "    \n",
    "    return text"
   ]
  },
  {
   "cell_type": "code",
   "execution_count": null,
   "metadata": {},
   "outputs": [],
   "source": [
    "# удаляем частице \"не\" из списка стоп-слов\n",
    "deselect_stop_words = ['не']\n",
    "for w in deselect_stop_words:\n",
    "    nlp.vocab[w].is_stop = False\n",
    "    \n",
    "# процедура удаления стоп-слов\n",
    "def remove_stop_words(text):\n",
    "    #токенизация текста\n",
    "    doc = nlp(text)\n",
    "\n",
    "    clean_text = []\n",
    "    \n",
    "    for token in doc:\n",
    "        if not token.is_stop: \n",
    "            clean_text.append(token.text)\n",
    "    return ' '.join(clean_text)"
   ]
  },
  {
   "cell_type": "code",
   "execution_count": 13,
   "metadata": {},
   "outputs": [
    {
     "data": {
      "text/plain": [
       "'аэрофлоту запретят летать в европу пока авиакомпания не соблюдет квоту по трансгендерам'"
      ]
     },
     "execution_count": 13,
     "metadata": {},
     "output_type": "execute_result"
    }
   ],
   "source": [
    "# проверяем препроцессинг текста\n",
    "text_process('«Аэрофлоту» запретят летать в Европу, пока авиакомпания не соблюдет квоту по трансгендерам')"
   ]
  },
  {
   "cell_type": "code",
   "execution_count": 47,
   "metadata": {},
   "outputs": [
    {
     "data": {
      "text/plain": [
       "'« Аэрофлоту » запретят летать Европу , авиакомпания не соблюдет квоту трансгендерам'"
      ]
     },
     "execution_count": 47,
     "metadata": {},
     "output_type": "execute_result"
    }
   ],
   "source": [
    "# проверяем очистку текста от стоп-слов\n",
    "remove_stop_words('«Аэрофлоту» запретят летать в Европу, пока авиакомпания не соблюдет квоту по трансгендерам')"
   ]
  },
  {
   "cell_type": "markdown",
   "metadata": {},
   "source": [
    "#### Запускаем обработку текста на тренировочные данные"
   ]
  },
  {
   "cell_type": "code",
   "execution_count": null,
   "metadata": {},
   "outputs": [],
   "source": [
    "df_train['title_processed'] = df_train['title'].apply(text_process)\n",
    "df_train['title_processed_stop'] = df_train['title'].apply(text_process).apply(remove_stop_words)"
   ]
  },
  {
   "cell_type": "code",
   "execution_count": 55,
   "metadata": {},
   "outputs": [],
   "source": [
    "# Разбиаем на train/val выборки для дальнейшего сравнения моделей\n",
    "my_df_train, my_df_test = train_test_split(df_train, test_size=0.2, random_state=42)"
   ]
  },
  {
   "cell_type": "code",
   "execution_count": 16,
   "metadata": {},
   "outputs": [],
   "source": [
    "\"\"\"\n",
    "Сохраняем разбиение для сравнения с BERT и USE\n",
    "\"\"\"\n",
    "my_df_train.to_csv(DATA_PATH.joinpath('my_train.tsv'), sep='\\t')\n",
    "my_df_test.to_csv(DATA_PATH.joinpath('my_test.tsv'), sep='\\t')"
   ]
  },
  {
   "cell_type": "code",
   "execution_count": 49,
   "metadata": {},
   "outputs": [],
   "source": [
    "X_train = my_df_train['title_processed'].tolist()\n",
    "y_train = my_df_train['is_fake'].tolist()\n",
    "X_val = my_df_test['title_processed'].tolist() \n",
    "y_val = my_df_test['is_fake'].tolist()"
   ]
  },
  {
   "cell_type": "markdown",
   "metadata": {},
   "source": [
    "## Подготовка пайпа для подбора гиперпараметров для SVC и LogReg"
   ]
  },
  {
   "cell_type": "markdown",
   "metadata": {},
   "source": [
    "#### Т.к. выборки сбалансированы и у нас двуклассовая классификация, то выбираем F1-метрику как основную"
   ]
  },
  {
   "cell_type": "markdown",
   "metadata": {},
   "source": [
    "### 1. TfIdf + logreg"
   ]
  },
  {
   "cell_type": "code",
   "execution_count": null,
   "metadata": {},
   "outputs": [],
   "source": [
    "pipe = make_pipeline(TfidfVectorizer(min_df=2), LogisticRegression(max_iter=400))\n",
    "\n",
    "params = [\n",
    "            {\n",
    "                 'tfidfvectorizer__ngram_range': [(1, 1), (1, 2), (1, 3)],\n",
    "                 'tfidfvectorizer__min_df': [2],\n",
    "                 'tfidfvectorizer__norm': ['l1', 'l2'],\n",
    "                 'logisticregression__C': [0.1, 1, 10, 100],\n",
    "                 'logisticregression__penalty': ['l1', 'l2'],\n",
    "            },\n",
    "            {\n",
    "                'tfidfvectorizer__ngram_range': [(1, 1), (1, 2), (1, 3)],\n",
    "                'tfidfvectorizer__min_df': [2],\n",
    "                'tfidfvectorizer__norm': ['l1', 'l2'],\n",
    "                'logisticregression__C': [0.1, 1, 10, 100],\n",
    "                'logisticregression__penalty': ['elasticnet'],\n",
    "                'logisticregression__l1_ratio': [0.2, 0.5, 0.7]  \n",
    "            },\n",
    "         ]\n",
    "\n",
    "grid = GridSearchCV(pipe, params, cv=5, scoring='f1', n_jobs=-1)\n",
    "grid.fit(X, y)\n",
    "print(\"Наилучшее значение перекрестной проверки: {:.2f}\".format(grid.best_score_))\n",
    "print(\"Наилучшие параметры:\\n{}\".format(grid.best_params_))"
   ]
  },
  {
   "cell_type": "markdown",
   "metadata": {},
   "source": [
    "### 2. TfIdf + SVC"
   ]
  },
  {
   "cell_type": "code",
   "execution_count": null,
   "metadata": {},
   "outputs": [],
   "source": [
    "pipe = make_pipeline(TfidfVectorizer(), SVC())\n",
    "\n",
    "params = [\n",
    "            {\n",
    "                'tfidfvectorizer__ngram_range': [(1, 1), (1, 2), (1, 3)],\n",
    "                'tfidfvectorizer__min_df': [2],\n",
    "                'tfidfvectorizer__norm': ['l1', 'l2'],\n",
    "                'svc__kernel': ['rbf'],\n",
    "                'svc__C': [10, 20, 30, 50],\n",
    "                'svc__gamma': [0.01, 0.1, 1, 10]\n",
    "            }\n",
    "]\n",
    "grid = GridSearchCV(pipe, params, cv=5, scoring='f1', n_jobs=-1)\n",
    "grid.fit(X, y)\n",
    "print(\"Наилучшее значение перекрестной проверки: {:.2f}\".format(grid.best_score_))\n",
    "print(\"Наилучшие параметры:\\n{}\".format(grid.best_params_))"
   ]
  },
  {
   "cell_type": "markdown",
   "metadata": {},
   "source": [
    "### составляем вектора текстов: объединяя tfidf и tf"
   ]
  },
  {
   "cell_type": "code",
   "execution_count": 50,
   "metadata": {},
   "outputs": [],
   "source": [
    "vectorizer = FeatureUnion(\n",
    "    [(\"tfidf\", TfidfVectorizer(max_df=1., min_df=3, stop_words=None)),\n",
    "     (\"tf\", TfidfVectorizer(use_idf=False, ngram_range=(1, 2)))])\n",
    "\n",
    "X_train_tfidf = vectorizer.fit_transform(X_train)\n",
    "X_val_tfidf = vectorizer.transform(X_val)"
   ]
  },
  {
   "cell_type": "markdown",
   "metadata": {},
   "source": [
    "### Обучаем молель с лучшими параметрами"
   ]
  },
  {
   "cell_type": "code",
   "execution_count": 51,
   "metadata": {},
   "outputs": [
    {
     "data": {
      "text/plain": [
       "SVC(C=20, gamma=0.1)"
      ]
     },
     "execution_count": 51,
     "metadata": {},
     "output_type": "execute_result"
    }
   ],
   "source": [
    "model = SVC(gamma=0.1, C=20)\n",
    "\n",
    "model.fit(X_train_tfidf, y_train)"
   ]
  },
  {
   "cell_type": "code",
   "execution_count": 52,
   "metadata": {},
   "outputs": [
    {
     "data": {
      "text/plain": [
       "0.827930174563591"
      ]
     },
     "execution_count": 52,
     "metadata": {},
     "output_type": "execute_result"
    }
   ],
   "source": [
    "y_pred = model.predict(X_val_tfidf)\n",
    "\n",
    "f1_score(y_val, y_pred)"
   ]
  },
  {
   "cell_type": "markdown",
   "metadata": {},
   "source": [
    "#### Проверка гипотезы, что заголовки короткие и удаление стоп слов и лемматизация могут ухудшить модель, лучше учитывать максимальное число слов"
   ]
  },
  {
   "cell_type": "code",
   "execution_count": 56,
   "metadata": {},
   "outputs": [],
   "source": [
    "X_train = my_df_train['title_processed_stop'].tolist()\n",
    "y_train = my_df_train['is_fake'].tolist()\n",
    "X_val = my_df_test['title_processed_stop'].tolist() \n",
    "y_val = my_df_test['is_fake'].tolist()"
   ]
  },
  {
   "cell_type": "code",
   "execution_count": 57,
   "metadata": {},
   "outputs": [],
   "source": [
    "vectorizer = FeatureUnion(\n",
    "    [(\"tfidf\", TfidfVectorizer(max_df=1., min_df=3, stop_words=None)),\n",
    "     (\"tf\", TfidfVectorizer(use_idf=False, ngram_range=(1, 2)))])\n",
    "X_train_tfidf = vectorizer.fit_transform(X_train)\n",
    "X_val_tfidf = vectorizer.transform(X_val)"
   ]
  },
  {
   "cell_type": "code",
   "execution_count": 58,
   "metadata": {},
   "outputs": [
    {
     "data": {
      "text/plain": [
       "SVC(C=20, gamma=0.1)"
      ]
     },
     "execution_count": 58,
     "metadata": {},
     "output_type": "execute_result"
    }
   ],
   "source": [
    "model = SVC(gamma=0.1, C=20)\n",
    "\n",
    "model.fit(X_train_tfidf, y_train)"
   ]
  },
  {
   "cell_type": "code",
   "execution_count": 59,
   "metadata": {},
   "outputs": [
    {
     "data": {
      "text/plain": [
       "0.8143712574850299"
      ]
     },
     "execution_count": 59,
     "metadata": {},
     "output_type": "execute_result"
    }
   ],
   "source": [
    "y_pred = model.predict(X_val_tfidf)\n",
    "\n",
    "f1_score(y_val, y_pred)"
   ]
  },
  {
   "cell_type": "markdown",
   "metadata": {},
   "source": [
    "### Вывод по Tfidf + SVC: лучший скор с очищенными текстами и C=20, gamma=0.1"
   ]
  },
  {
   "cell_type": "markdown",
   "metadata": {},
   "source": [
    "<h1>USE+SVC"
   ]
  },
  {
   "cell_type": "markdown",
   "metadata": {},
   "source": [
    "Мультиязычный USE показывает неплохие результаты для решения задач обработки текстов. Имеет смысл попробовать получить эмбеддинги и применить классификатор SVC."
   ]
  },
  {
   "cell_type": "code",
   "execution_count": null,
   "metadata": {
    "scrolled": true
   },
   "outputs": [],
   "source": [
    "# грузим модель\n",
    "use = hub.load(\"https://tfhub.dev/google/universal-sentence-encoder-multilingual-large/3\")"
   ]
  },
  {
   "cell_type": "markdown",
   "metadata": {},
   "source": [
    "#### USE не требует препроцессинга, поэтому получаем эмбеддинги на изначальных заголовках"
   ]
  },
  {
   "cell_type": "code",
   "execution_count": 23,
   "metadata": {},
   "outputs": [
    {
     "name": "stderr",
     "output_type": "stream",
     "text": [
      "100%|██████████████████████████████████████████████████████████████████████████████| 4606/4606 [02:10<00:00, 35.38it/s]\n",
      "100%|██████████████████████████████████████████████████████████████████████████████| 1152/1152 [00:31<00:00, 36.23it/s]\n"
     ]
    }
   ],
   "source": [
    "X_my_train = my_df_train['title'].tolist()\n",
    "X_my_test = my_df_test['title'].tolist()\n",
    "\n",
    "X_emb = []\n",
    "for r in tqdm(X_train):\n",
    "    emb = use(r)\n",
    "    head_emb = tf.reshape(emb, [-1]).numpy()\n",
    "    X_emb.append(head_emb)\n",
    "\n",
    "X_emb = np.array(X_emb)\n",
    "\n",
    "X_test_emb = []\n",
    "for r in tqdm(X_val):\n",
    "    emb = use(r)\n",
    "    head_emb = tf.reshape(emb, [-1]).numpy()\n",
    "    X_test_emb.append(head_emb)\n",
    "\n",
    "X_test_emb = np.array(X_test_emb)"
   ]
  },
  {
   "cell_type": "markdown",
   "metadata": {},
   "source": [
    "### Подбор гиперпараметров для SVC"
   ]
  },
  {
   "cell_type": "code",
   "execution_count": 24,
   "metadata": {},
   "outputs": [],
   "source": [
    "def svc_param_selection(X, y, nfolds):\n",
    "    param_grid = {'C': [0.001, 0.01, 0.1, 1, 10], 'gamma' : [0.001, 0.01, 0.1, 1]}\n",
    "    grid_search = GridSearchCV(SVC(kernel='rbf'), param_grid, cv=nfolds, n_jobs=8)\n",
    "    grid_search.fit(X, y)\n",
    "    grid_search.best_params_\n",
    "    return grid_search\n",
    "\n",
    "model = svc_param_selection(X_emb, y_train, 5)"
   ]
  },
  {
   "cell_type": "code",
   "execution_count": 25,
   "metadata": {},
   "outputs": [
    {
     "data": {
      "text/plain": [
       "{'C': 10, 'gamma': 1}"
      ]
     },
     "execution_count": 25,
     "metadata": {},
     "output_type": "execute_result"
    }
   ],
   "source": [
    "model.best_params_"
   ]
  },
  {
   "cell_type": "code",
   "execution_count": 26,
   "metadata": {},
   "outputs": [
    {
     "data": {
      "text/plain": [
       "SVC(C=10, gamma=1)"
      ]
     },
     "execution_count": 26,
     "metadata": {},
     "output_type": "execute_result"
    }
   ],
   "source": [
    "model = SVC(kernel='rbf', C=10, gamma=1)\n",
    "model.fit(X_emb, y_train)"
   ]
  },
  {
   "cell_type": "code",
   "execution_count": 27,
   "metadata": {},
   "outputs": [
    {
     "data": {
      "text/plain": [
       "0.8698689956331878"
      ]
     },
     "execution_count": 27,
     "metadata": {},
     "output_type": "execute_result"
    }
   ],
   "source": [
    "y_pred = model.predict(X_test_emb)\n",
    "\n",
    "f1_score(y_val, y_pred)"
   ]
  },
  {
   "cell_type": "markdown",
   "metadata": {},
   "source": [
    "## Дообучим bert сеть на основе предобученной модели cointegrated/rubert-tiny в отдельном проекте"
   ]
  },
  {
   "cell_type": "code",
   "execution_count": null,
   "metadata": {
    "scrolled": true
   },
   "outputs": [],
   "source": [
    "!python3 ../src/run_classification.py"
   ]
  },
  {
   "cell_type": "markdown",
   "metadata": {},
   "source": [
    "#### поднимаем с диска результаты обучения и предикта для подсчета метрики"
   ]
  },
  {
   "cell_type": "code",
   "execution_count": 28,
   "metadata": {},
   "outputs": [],
   "source": [
    "df_bert = pd.read_csv(DATA_PATH.jpinpath('valid_bert.tsv'), sep='\\t')"
   ]
  },
  {
   "cell_type": "code",
   "execution_count": 30,
   "metadata": {},
   "outputs": [],
   "source": [
    "df_bert['use_is_fake'] = y_pred"
   ]
  },
  {
   "cell_type": "code",
   "execution_count": 29,
   "metadata": {},
   "outputs": [
    {
     "data": {
      "text/plain": [
       "0.8625106746370623"
      ]
     },
     "execution_count": 29,
     "metadata": {},
     "output_type": "execute_result"
    }
   ],
   "source": [
    "f1_score(y_val, df_bert['bert_is_fake'])"
   ]
  },
  {
   "cell_type": "code",
   "execution_count": 31,
   "metadata": {
    "scrolled": true
   },
   "outputs": [
    {
     "data": {
      "text/plain": [
       "['Камеру в Nexus 5 заставят работать быстрей',\n",
       " 'Похороны Бориса Заходера: Уходит целая эпоха',\n",
       " 'Индийский режиссер снимет фильм о гибели королевской семьи в Непале',\n",
       " 'Огненный шоколад заинтересовал российские органы власти',\n",
       " 'Центробанк начнет размещать рекламу на новых купюрах',\n",
       " 'Медведев потребовал продать Twitter российской компании',\n",
       " 'В России вступил в силу мораторий на действие ДОВСЕ',\n",
       " '16 марта в Москве — премьера фильма Сокурова Телец',\n",
       " 'РАН поддержала внедрение «этноматематики» в курс алгебры',\n",
       " 'В Испании зафиксирована первая дефляция в истории страны',\n",
       " 'В США перепрограммировали геном возбудителя сальмонеллеза',\n",
       " 'В Казани зафиксировали 10-балльные пробки на тротуарах',\n",
       " 'Украина приостановит экспорт подсолнечного масла',\n",
       " 'В Dead Rising 3 добавят миссию по спасению президента',\n",
       " 'Греф: Россия вступит в ВТО до конца 2001 года',\n",
       " 'Правительство РФ заставит компании снизить бонусы ради господдержки',\n",
       " 'Австралийцы будут судиться с главным тренером Зенита',\n",
       " 'Минюст признал иноагентом посла США в России Джона Салливана',\n",
       " 'Гравитационные волны Вселенной обнаружат с помощью радиотелескопов',\n",
       " 'Коллекция Ростроповича и Вишневской будет открыта для публики 12 мая',\n",
       " 'Пригожин предрек провокации на «Евровидении» в Киеве',\n",
       " 'Ветеринара обвинили в пропаганде АУЕ из-за поставленного собаке диагноза',\n",
       " 'В Малайзии из «Красавицы и чудовища» вырезали гей-персонажа и отменили премьеру',\n",
       " 'Сборная России заявила еще троих хоккеистов для участия в ЧМ',\n",
       " 'Банк России выпустил монету с местом под рекламу',\n",
       " 'Twitter замедлил работу аккаунта Роскомнадзора',\n",
       " 'Для изучения работы генов созданы мухи с флуоресцирующими глазами',\n",
       " 'Peugeot отзовет в России 2,5 тысячи кроссоверов',\n",
       " 'Первого победителя саудовской «Битвы экстрасенсов» сожгли за колдовство',\n",
       " 'Полиция Монако задержала совладельца Внешпромбанка Беджамова',\n",
       " 'Принятие бюджета Москвы отложено на неопределенный срок',\n",
       " '«Коммунисты России» восстановили работу Апрелевского завода грампластинок',\n",
       " 'Российские гимнасты остались без медалей в личном многоборье на ОИ',\n",
       " 'Милонов предложил отправить Манижу на уборку улиц',\n",
       " 'Суд приговорил бывшего сотрудника фабрики троллей к неделе исправительных работ',\n",
       " 'Давид Хомак сдал двух своих котов в приют из-за нацизма',\n",
       " 'Владельцем крупнейших антивакцинаторских групп в России оказалось похоронное бюро',\n",
       " 'Собянин отменил обязательное ношение бахил в Москве',\n",
       " 'Предприятию «Генборг» предоставят 710 миллионов рублей для модернизации',\n",
       " 'Футболист «Челси» рассказал о желании жены выгнать его из дома из-за пенальти',\n",
       " 'Доказано внеземное происхождение кинжала Тутанхамона',\n",
       " 'Москва лишена права проведения чемпионата мира по боксу',\n",
       " '«Уралкалий» объяснил действия Минска конкурентной борьбой',\n",
       " 'Московские власти выбрали бесплатный день для музеев',\n",
       " 'Церковь не благословила спектакль по сказке Пушкина',\n",
       " 'Юлия Навальная станет преемницей Меркель на посту канцлера ФРГ',\n",
       " 'Взрослые осы выращивают паразитов для своих детей',\n",
       " 'Полиция начала изымать скоромные продукты из столичных супермаркетов',\n",
       " 'Альфа-Банк начал продавать карты с «красивыми» номерами',\n",
       " '«Росатом» наладит серийный выпуск суперкомпьютеров',\n",
       " 'Международная федерация футбола в мае подпишет антидопинговый кодекс',\n",
       " 'Турецкий «Фенербахче» создал памятку для фанатов перед игрой с «Краснодаром»',\n",
       " 'Москвича оштрафовали за просмотр в ускоренном режиме видео на YouTube',\n",
       " 'Дмитрий Демушкин победил на соревнованиях по скоростной колке чурок',\n",
       " 'Королевская семья Великобритании появилась на премьере фильма об Анне Болейн с блекфейсом',\n",
       " 'Россия наладила экспорт шпрот в Латвию',\n",
       " 'Фургал отказался сидеть в одной камере с Навальным',\n",
       " 'Депутаты Думы устроили давку и драку во время распродажи долларов по льготному курсу',\n",
       " 'Новая iOS «убьет» 200 тысяч приложений',\n",
       " 'На скоростную магистраль за триллион в Грозный дали добро',\n",
       " 'Трампа удалят с официальных фотографий на сайте Конгресса США',\n",
       " 'Явлинский призвал раздавить гидру либерализма',\n",
       " 'Паромное сообщение между Сахалином и Японией закроют из-за убытков',\n",
       " 'Бразильский вратарь отказался играть по субботам из-за религиозных убеждений',\n",
       " 'Отмену QR-кодов Москва отметит ресторанным фестивалем',\n",
       " 'Нобелевские лауреаты Гейм и Новосёлов провалили ЕГЭ по физике',\n",
       " 'Компания Цукерберга создаст сервис удалённой продажи лекарств META-Vitamin',\n",
       " 'Microsoft решила переименовать в своих продуктах жирный шрифт в бодипозитивный',\n",
       " 'Французский сыродел купил на аукционе плесень из мавзолея Ленина',\n",
       " 'В МГУ назвали сроки наводнений в России',\n",
       " 'В новогоднюю ночь у Дмитрия Пескова похитили усы',\n",
       " 'Российский очаг эконом-класса «Золотой ключик» стал хитом продаж в Молдавии',\n",
       " 'Сын Че Гевары мечтает о съемках кубинского Че',\n",
       " '«Почта России» планирует увеличить чистую прибыль почти вдвое',\n",
       " 'Российские Союзы останутся главным транспортом к МКС',\n",
       " 'Эрмитаж разработает тайную маркировку экспонатов',\n",
       " 'Титов предложил создать в Крыму отдельную налоговую систему',\n",
       " 'Ананд не смог обыграть Крамника во второй партии матча на первенство мира по шахматам',\n",
       " 'Американский адмирал пообещал принудить Европу к трансатлантическому сотрудничеству',\n",
       " 'В Воронеже с размахом отметят юбилейный прорыв теплотрассы',\n",
       " 'Дальавиа прекратила выполнять свои рейсы в Москву и Санкт-Петербург',\n",
       " 'Чубайс объяснил желание прильнуть к пенсиям россиян',\n",
       " 'В борьбе за коммунальщиков у Росводоканала появился французский конкурент',\n",
       " 'Ассоциация пивоваров Чехии официально признала российское пиво мочой',\n",
       " 'У Натальи Гундаревой появились признаки выхода из комы',\n",
       " 'Талибы разрешили немусульманкам носить кандибобер на голове вместо хиджаба',\n",
       " 'В Туве обнаружено хорошо сохранившееся захоронение скифов']"
      ]
     },
     "execution_count": 31,
     "metadata": {},
     "output_type": "execute_result"
    }
   ],
   "source": [
    "# ошибки BERT\n",
    "df_bert[(df_bert['use_is_fake']==df_bert['is_fake']) & (df_bert['bert_is_fake']!=df_bert['is_fake'])]['title'].to_list()"
   ]
  },
  {
   "cell_type": "code",
   "execution_count": 32,
   "metadata": {
    "scrolled": true
   },
   "outputs": [
    {
     "data": {
      "text/plain": [
       "['Генеральный прокурор США начал расследование против российских спортсменов, участвующих в Олимпиаде',\n",
       " 'Москвичи пригрозили остановить работу старейшего McDonalds в России',\n",
       " 'Цены на норвежскую красную рыбу достигли десятилетнего максимума',\n",
       " 'Итоги года. Россия',\n",
       " 'Искусствовед: «На картине «Мона Лиза» изображена мать Ивана Грозного»',\n",
       " 'Аспирант Московской консерватории выиграл конкурс Вана Клиберна',\n",
       " 'Юрий Лоза заявил о готовности написать новый гимн Армении',\n",
       " 'Rockstar создаст компьютерную игру по мотивам книги «Зулейха открывает глаза»',\n",
       " 'Для экономии кислорода с МКС катапультируют всех женщин',\n",
       " 'Российскую олимпийскую чемпионку по спортивной ходьбе дисквалифицировали из-за допинга',\n",
       " 'На лондонском конкурсе двойников Мистера Бина победил аутист из Саратова',\n",
       " '70-летняя аргентинка забеременела после прививки «Спутником V»',\n",
       " 'В Госдуме предложили вернуться к «\\u200eвнесудебным тройкам»',\n",
       " 'Мила Кунис станет ведьмой страны Оз',\n",
       " 'Трамп проконсультирует Кремль по поводу введения ответных санкций в отношении США',\n",
       " 'Путин разрешил наказывать за просрочки с отменой «мобильного рабства»',\n",
       " 'Корабль Адмирал Чабаненко вошел в Панамский канал',\n",
       " 'Новая генетическая лаборатория помещается на микрочипе',\n",
       " 'Совет Федерации разрешил прерывать обращения президента на рекламу',\n",
       " 'Туркмения в декабре начнет поставки газа в Китай',\n",
       " 'Госдума запретила экспорт цветных металлов из России',\n",
       " 'Международный олимпийский комитет признал неэффективность антисекс-кроватей в Токио',\n",
       " 'Медведев продлил программу поддержки российского автопрома',\n",
       " 'Apple запатентовала инновационную технологию досмотра человека его собственным телефоном',\n",
       " 'Визит Трампа на завод Harley-Davidson отменили из-за угрозы протестов',\n",
       " 'Arcade Fire продадут церковь',\n",
       " 'Журналист Караулов попросил денег на исторический фильм Художник. Воин. Мечтатель',\n",
       " 'Состав Бундестага будет согласовываться с российским представителем',\n",
       " 'Россиянам запретят смотреть на кортежи',\n",
       " 'На государственную электронную почту попросили миллиард долларов',\n",
       " 'Российские губернаторы опоздали на военные сборы',\n",
       " 'Lego выпустит ограниченную серию Bionicle с Долгополовым и Соловьевым',\n",
       " 'В московском метро найден бесхозный контрольный пакет акций «Норникеля»',\n",
       " 'Моющие средства Calgon оказались безвредными для употребления женщинами',\n",
       " 'Чучело Евгения Понасенкова выставят в Палате мер и весов',\n",
       " 'Минфин: повышение цен на водку не приведёт к подорожанию алкоголя',\n",
       " 'Никита Михалков представил чертежи космолёта Николая II',\n",
       " 'Лицензия на производство спирта будет стоить 500 минимальных зарплат',\n",
       " 'Американский суд запретил называть Байдена бидоном',\n",
       " 'В Хабаровске покажут мюзикл о дружбе Тимура и Амура',\n",
       " 'Герман Стерлигов станет новым PR-директором сети магазинов «ВкусВилл»',\n",
       " 'На Олимпиаде в Токио российский борец проиграл трансгендеру из США',\n",
       " 'У россиян изымут излишки бензина АИ-92',\n",
       " 'Госплан РФ уверен, что масштабный голод России не грозит',\n",
       " 'Россия поплатится за отсталость',\n",
       " 'Из-за угрозы обрушения в Ярославле закрыт торговый комплекс',\n",
       " 'Стивен Спилберг снимет фильм о выводе американских войск из Афганистана',\n",
       " 'Крейсер «Аврора» перекрыл Неву во время репетиции парада Победы',\n",
       " 'Суд попросили запретить Кехману уезжать за границу',\n",
       " 'TMZ опубликовал фотосессию самоубийства Гитлера',\n",
       " 'В борьбу за здоровые груди включились розовые фотоаппараты от Polaroid',\n",
       " 'Пилотажные группы «Русские витязи» и «Стрижи» впервые показали фигуру «Звезда Давида»',\n",
       " 'Словакия отказала Украине в реверсных поставках газа из Северного потока-2',\n",
       " 'Российские ученые нашли «спусковой крючок» болезни Альцгеймера',\n",
       " 'Полиция назвала виновного в аварии российской бобслеистки',\n",
       " 'ОМОН разогнал очередь у офиса «Турецких авиалиний», приняв её за пикет',\n",
       " 'Китай запустил производство малых спутников в трудовых лагерях уйгуров',\n",
       " 'Жена Билла Гейтса после развода получит корзину, обои и Internet Explorer',\n",
       " 'Порошенко призвал Раду одобрить реформы МВФ',\n",
       " 'Силуанов опроверг слова Обамы о разорванной в клочья экономике России',\n",
       " 'СК начал проверку в отношении рабочих, потушивших для профилактики Вечный огонь',\n",
       " 'Китай арестовал 275 пассажиров авиалайнера, летевшего из США на Тайвань',\n",
       " 'Лимонова оштрафовали за митинг против капитализма',\n",
       " 'Счетная палата подала тендерную заявку на аудит МАГАТЭ, ОЗХО и Интерпола',\n",
       " 'Студенты Гнесинки опротестуют выселение из общежития концертом',\n",
       " '«Яндекс» и МВД объявили о создании онлайн-проекта Я.Осведомитель',\n",
       " 'Франция продаст атомные подлодки, от которых отказалась Австралия, в КНДР',\n",
       " 'Ученые лишились подписки на тысячи журналов из-за обвала рубля',\n",
       " 'Совет безопасности соберётся для обсуждения цен на свёклу',\n",
       " 'В Томске пройдет выставка качественного дорожного покрытия',\n",
       " 'Космонавта Крикалёва уволили из Роскосмоса из-за отсутствия музыкального слуха',\n",
       " 'Нью-йоркский суд подтвердил невиновность Дэна Брауна в плагиате',\n",
       " 'В Москве откроют первый в России памятник QR-коду',\n",
       " 'Педро Альмодовару отказали в праве претендовать на Оскар',\n",
       " 'Суд постановил разрезать пополам картины из коллекции Евгения Петросяна']"
      ]
     },
     "execution_count": 32,
     "metadata": {},
     "output_type": "execute_result"
    }
   ],
   "source": [
    "# ошибки USE\n",
    "df_bert[(df_bert['bert_is_fake']==df_bert['is_fake']) & (df_bert['use_is_fake']!=df_bert['is_fake'])]['title'].to_list()"
   ]
  },
  {
   "cell_type": "code",
   "execution_count": 28,
   "metadata": {},
   "outputs": [
    {
     "data": {
      "text/html": [
       "<div>\n",
       "<style scoped>\n",
       "    .dataframe tbody tr th:only-of-type {\n",
       "        vertical-align: middle;\n",
       "    }\n",
       "\n",
       "    .dataframe tbody tr th {\n",
       "        vertical-align: top;\n",
       "    }\n",
       "\n",
       "    .dataframe thead th {\n",
       "        text-align: right;\n",
       "    }\n",
       "</style>\n",
       "<table border=\"1\" class=\"dataframe\">\n",
       "  <thead>\n",
       "    <tr style=\"text-align: right;\">\n",
       "      <th></th>\n",
       "      <th>MODEL</th>\n",
       "      <th>Score</th>\n",
       "    </tr>\n",
       "  </thead>\n",
       "  <tbody>\n",
       "    <tr>\n",
       "      <th>2</th>\n",
       "      <td>SVC(C=20, gamma=0.1) + USE</td>\n",
       "      <td>0.870</td>\n",
       "    </tr>\n",
       "    <tr>\n",
       "      <th>3</th>\n",
       "      <td>BERT (cointegrated/rubert-tiny)</td>\n",
       "      <td>0.863</td>\n",
       "    </tr>\n",
       "    <tr>\n",
       "      <th>1</th>\n",
       "      <td>SVC(C=20, gamma=0.1) + TfIdf (с очисткой)</td>\n",
       "      <td>0.828</td>\n",
       "    </tr>\n",
       "    <tr>\n",
       "      <th>0</th>\n",
       "      <td>SVC(C=20, gamma=0.1) + TfIdf (без очистки)</td>\n",
       "      <td>0.814</td>\n",
       "    </tr>\n",
       "  </tbody>\n",
       "</table>\n",
       "</div>"
      ],
      "text/plain": [
       "                                        MODEL  Score\n",
       "2                  SVC(C=20, gamma=0.1) + USE  0.870\n",
       "3             BERT (cointegrated/rubert-tiny)  0.863\n",
       "1   SVC(C=20, gamma=0.1) + TfIdf (с очисткой)  0.828\n",
       "0  SVC(C=20, gamma=0.1) + TfIdf (без очистки)  0.814"
      ]
     },
     "execution_count": 28,
     "metadata": {},
     "output_type": "execute_result"
    }
   ],
   "source": [
    "pd.DataFrame([{'MODEL':'SVC(C=20, gamma=0.1) + TfIdf (без очистки)', 'Score':0.814},\n",
    "             {'MODEL':'SVC(C=20, gamma=0.1) + TfIdf (с очисткой)', 'Score':0.828},\n",
    "             {'MODEL':'SVC(C=20, gamma=0.1) + USE', 'Score':0.870},\n",
    "             {'MODEL':'BERT (cointegrated/rubert-tiny)', 'Score':0.863},]).sort_values(by='Score', ascending=False)"
   ]
  },
  {
   "cell_type": "markdown",
   "metadata": {},
   "source": [
    "## Обучаем лучшую модель на всех данных SVC(C=20, gamma=0.1) + USE"
   ]
  },
  {
   "cell_type": "code",
   "execution_count": 33,
   "metadata": {},
   "outputs": [
    {
     "name": "stderr",
     "output_type": "stream",
     "text": [
      "100%|██████████████████████████████████████████████████████████████████████████████| 5758/5758 [02:39<00:00, 36.12it/s]\n"
     ]
    }
   ],
   "source": [
    "# готовим предикторы\n",
    "X = df_train['title']\n",
    "\n",
    "X_all_emb = []\n",
    "for r in tqdm(X):\n",
    "    emb = use(r)\n",
    "    head_emb = tf.reshape(emb, [-1]).numpy()\n",
    "    X_all_emb.append(head_emb)\n",
    "\n",
    "X_all_emb = np.array(X_all_emb)"
   ]
  },
  {
   "cell_type": "code",
   "execution_count": 34,
   "metadata": {},
   "outputs": [
    {
     "data": {
      "text/plain": [
       "SVC(C=10, gamma=1)"
      ]
     },
     "execution_count": 34,
     "metadata": {},
     "output_type": "execute_result"
    }
   ],
   "source": [
    "# обучаем модельку\n",
    "result_model = SVC(kernel='rbf', C=10, gamma=1)\n",
    "result_model.fit(X_all_emb, df_train['is_fake'])"
   ]
  },
  {
   "cell_type": "markdown",
   "metadata": {},
   "source": [
    "<h2> Классификация"
   ]
  },
  {
   "cell_type": "code",
   "execution_count": 35,
   "metadata": {},
   "outputs": [
    {
     "name": "stderr",
     "output_type": "stream",
     "text": [
      "100%|██████████████████████████████████████████████████████████████████████████████| 1000/1000 [00:26<00:00, 37.74it/s]\n"
     ]
    }
   ],
   "source": [
    "# прогоняем модель на тестовых данных\n",
    "X_final_emb = []\n",
    "for r in tqdm(df_test['title']):\n",
    "    emb = use(r)\n",
    "    head_emb = tf.reshape(emb, [-1]).numpy()\n",
    "    X_final_emb.append(head_emb)\n",
    "\n",
    "X_final_emb = np.array(X_final_emb)"
   ]
  },
  {
   "cell_type": "code",
   "execution_count": 36,
   "metadata": {},
   "outputs": [],
   "source": [
    "y_pred = result_model.predict(X_final_emb)\n",
    "df_test['is_fake'] = y_pred"
   ]
  },
  {
   "cell_type": "code",
   "execution_count": 38,
   "metadata": {},
   "outputs": [
    {
     "data": {
      "text/html": [
       "<style  type=\"text/css\" >\n",
       "#T_623bc9bc_d155_11ec_8aa7_e0d464800399row0_col0,#T_623bc9bc_d155_11ec_8aa7_e0d464800399row1_col0,#T_623bc9bc_d155_11ec_8aa7_e0d464800399row2_col0,#T_623bc9bc_d155_11ec_8aa7_e0d464800399row3_col0,#T_623bc9bc_d155_11ec_8aa7_e0d464800399row4_col0{\n",
       "            width-min:  300px;\n",
       "        }</style><table id=\"T_623bc9bc_d155_11ec_8aa7_e0d464800399\" ><thead>    <tr>        <th class=\"blank level0\" ></th>        <th class=\"col_heading level0 col0\" >title</th>        <th class=\"col_heading level0 col1\" >is_fake</th>    </tr></thead><tbody>\n",
       "                <tr>\n",
       "                        <th id=\"T_623bc9bc_d155_11ec_8aa7_e0d464800399level0_row0\" class=\"row_heading level0 row0\" >0</th>\n",
       "                        <td id=\"T_623bc9bc_d155_11ec_8aa7_e0d464800399row0_col0\" class=\"data row0 col0\" >Роскомнадзор представил реестр сочетаний цветов, нежелательных в России</td>\n",
       "                        <td id=\"T_623bc9bc_d155_11ec_8aa7_e0d464800399row0_col1\" class=\"data row0 col1\" >1</td>\n",
       "            </tr>\n",
       "            <tr>\n",
       "                        <th id=\"T_623bc9bc_d155_11ec_8aa7_e0d464800399level0_row1\" class=\"row_heading level0 row1\" >1</th>\n",
       "                        <td id=\"T_623bc9bc_d155_11ec_8aa7_e0d464800399row1_col0\" class=\"data row1 col0\" >Ночью под Минском на президентской горе Беларашмор (Пик Демократии) внезапно появилось лицо Николая Лукашенко</td>\n",
       "                        <td id=\"T_623bc9bc_d155_11ec_8aa7_e0d464800399row1_col1\" class=\"data row1 col1\" >1</td>\n",
       "            </tr>\n",
       "            <tr>\n",
       "                        <th id=\"T_623bc9bc_d155_11ec_8aa7_e0d464800399level0_row2\" class=\"row_heading level0 row2\" >2</th>\n",
       "                        <td id=\"T_623bc9bc_d155_11ec_8aa7_e0d464800399row2_col0\" class=\"data row2 col0\" >Бывший спичрайтер Юрия Лозы рассказал о трудностях работы с Сергеем Шойгу</td>\n",
       "                        <td id=\"T_623bc9bc_d155_11ec_8aa7_e0d464800399row2_col1\" class=\"data row2 col1\" >0</td>\n",
       "            </tr>\n",
       "            <tr>\n",
       "                        <th id=\"T_623bc9bc_d155_11ec_8aa7_e0d464800399level0_row3\" class=\"row_heading level0 row3\" >3</th>\n",
       "                        <td id=\"T_623bc9bc_d155_11ec_8aa7_e0d464800399row3_col0\" class=\"data row3 col0\" >Сельская церковь, собравшая рекордно низкое количество пожертвований, сгорела от тройного попадания молнии</td>\n",
       "                        <td id=\"T_623bc9bc_d155_11ec_8aa7_e0d464800399row3_col1\" class=\"data row3 col1\" >1</td>\n",
       "            </tr>\n",
       "            <tr>\n",
       "                        <th id=\"T_623bc9bc_d155_11ec_8aa7_e0d464800399level0_row4\" class=\"row_heading level0 row4\" >4</th>\n",
       "                        <td id=\"T_623bc9bc_d155_11ec_8aa7_e0d464800399row4_col0\" class=\"data row4 col0\" >Акции Google рухнули после объявления о перезапуске RuTube</td>\n",
       "                        <td id=\"T_623bc9bc_d155_11ec_8aa7_e0d464800399row4_col1\" class=\"data row4 col1\" >1</td>\n",
       "            </tr>\n",
       "    </tbody></table>"
      ],
      "text/plain": [
       "<pandas.io.formats.style.Styler at 0x2ca710e45b0>"
      ]
     },
     "execution_count": 38,
     "metadata": {},
     "output_type": "execute_result"
    }
   ],
   "source": [
    "df_test[['title', 'is_fake']].head().style.set_properties(subset=[\"title\"], **{\"width-min\": \"300px\"})"
   ]
  },
  {
   "cell_type": "code",
   "execution_count": 39,
   "metadata": {},
   "outputs": [
    {
     "data": {
      "text/html": [
       "<style  type=\"text/css\" >\n",
       "#T_623f4c35_d155_11ec_92c4_e0d464800399row0_col0,#T_623f4c35_d155_11ec_92c4_e0d464800399row1_col0,#T_623f4c35_d155_11ec_92c4_e0d464800399row2_col0,#T_623f4c35_d155_11ec_92c4_e0d464800399row3_col0,#T_623f4c35_d155_11ec_92c4_e0d464800399row4_col0,#T_623f4c35_d155_11ec_92c4_e0d464800399row5_col0,#T_623f4c35_d155_11ec_92c4_e0d464800399row6_col0,#T_623f4c35_d155_11ec_92c4_e0d464800399row7_col0,#T_623f4c35_d155_11ec_92c4_e0d464800399row8_col0,#T_623f4c35_d155_11ec_92c4_e0d464800399row9_col0,#T_623f4c35_d155_11ec_92c4_e0d464800399row10_col0,#T_623f4c35_d155_11ec_92c4_e0d464800399row11_col0,#T_623f4c35_d155_11ec_92c4_e0d464800399row12_col0,#T_623f4c35_d155_11ec_92c4_e0d464800399row13_col0,#T_623f4c35_d155_11ec_92c4_e0d464800399row14_col0,#T_623f4c35_d155_11ec_92c4_e0d464800399row15_col0,#T_623f4c35_d155_11ec_92c4_e0d464800399row16_col0,#T_623f4c35_d155_11ec_92c4_e0d464800399row17_col0,#T_623f4c35_d155_11ec_92c4_e0d464800399row18_col0,#T_623f4c35_d155_11ec_92c4_e0d464800399row19_col0,#T_623f4c35_d155_11ec_92c4_e0d464800399row20_col0,#T_623f4c35_d155_11ec_92c4_e0d464800399row21_col0,#T_623f4c35_d155_11ec_92c4_e0d464800399row22_col0,#T_623f4c35_d155_11ec_92c4_e0d464800399row23_col0,#T_623f4c35_d155_11ec_92c4_e0d464800399row24_col0,#T_623f4c35_d155_11ec_92c4_e0d464800399row25_col0,#T_623f4c35_d155_11ec_92c4_e0d464800399row26_col0,#T_623f4c35_d155_11ec_92c4_e0d464800399row27_col0,#T_623f4c35_d155_11ec_92c4_e0d464800399row28_col0,#T_623f4c35_d155_11ec_92c4_e0d464800399row29_col0,#T_623f4c35_d155_11ec_92c4_e0d464800399row30_col0,#T_623f4c35_d155_11ec_92c4_e0d464800399row31_col0,#T_623f4c35_d155_11ec_92c4_e0d464800399row32_col0,#T_623f4c35_d155_11ec_92c4_e0d464800399row33_col0,#T_623f4c35_d155_11ec_92c4_e0d464800399row34_col0,#T_623f4c35_d155_11ec_92c4_e0d464800399row35_col0,#T_623f4c35_d155_11ec_92c4_e0d464800399row36_col0,#T_623f4c35_d155_11ec_92c4_e0d464800399row37_col0,#T_623f4c35_d155_11ec_92c4_e0d464800399row38_col0,#T_623f4c35_d155_11ec_92c4_e0d464800399row39_col0,#T_623f4c35_d155_11ec_92c4_e0d464800399row40_col0,#T_623f4c35_d155_11ec_92c4_e0d464800399row41_col0,#T_623f4c35_d155_11ec_92c4_e0d464800399row42_col0,#T_623f4c35_d155_11ec_92c4_e0d464800399row43_col0,#T_623f4c35_d155_11ec_92c4_e0d464800399row44_col0,#T_623f4c35_d155_11ec_92c4_e0d464800399row45_col0,#T_623f4c35_d155_11ec_92c4_e0d464800399row46_col0,#T_623f4c35_d155_11ec_92c4_e0d464800399row47_col0,#T_623f4c35_d155_11ec_92c4_e0d464800399row48_col0,#T_623f4c35_d155_11ec_92c4_e0d464800399row49_col0,#T_623f4c35_d155_11ec_92c4_e0d464800399row50_col0,#T_623f4c35_d155_11ec_92c4_e0d464800399row51_col0,#T_623f4c35_d155_11ec_92c4_e0d464800399row52_col0,#T_623f4c35_d155_11ec_92c4_e0d464800399row53_col0,#T_623f4c35_d155_11ec_92c4_e0d464800399row54_col0,#T_623f4c35_d155_11ec_92c4_e0d464800399row55_col0,#T_623f4c35_d155_11ec_92c4_e0d464800399row56_col0,#T_623f4c35_d155_11ec_92c4_e0d464800399row57_col0,#T_623f4c35_d155_11ec_92c4_e0d464800399row58_col0,#T_623f4c35_d155_11ec_92c4_e0d464800399row59_col0,#T_623f4c35_d155_11ec_92c4_e0d464800399row60_col0,#T_623f4c35_d155_11ec_92c4_e0d464800399row61_col0,#T_623f4c35_d155_11ec_92c4_e0d464800399row62_col0,#T_623f4c35_d155_11ec_92c4_e0d464800399row63_col0,#T_623f4c35_d155_11ec_92c4_e0d464800399row64_col0,#T_623f4c35_d155_11ec_92c4_e0d464800399row65_col0,#T_623f4c35_d155_11ec_92c4_e0d464800399row66_col0,#T_623f4c35_d155_11ec_92c4_e0d464800399row67_col0,#T_623f4c35_d155_11ec_92c4_e0d464800399row68_col0,#T_623f4c35_d155_11ec_92c4_e0d464800399row69_col0,#T_623f4c35_d155_11ec_92c4_e0d464800399row70_col0,#T_623f4c35_d155_11ec_92c4_e0d464800399row71_col0,#T_623f4c35_d155_11ec_92c4_e0d464800399row72_col0,#T_623f4c35_d155_11ec_92c4_e0d464800399row73_col0,#T_623f4c35_d155_11ec_92c4_e0d464800399row74_col0,#T_623f4c35_d155_11ec_92c4_e0d464800399row75_col0,#T_623f4c35_d155_11ec_92c4_e0d464800399row76_col0,#T_623f4c35_d155_11ec_92c4_e0d464800399row77_col0,#T_623f4c35_d155_11ec_92c4_e0d464800399row78_col0,#T_623f4c35_d155_11ec_92c4_e0d464800399row79_col0,#T_623f4c35_d155_11ec_92c4_e0d464800399row80_col0,#T_623f4c35_d155_11ec_92c4_e0d464800399row81_col0,#T_623f4c35_d155_11ec_92c4_e0d464800399row82_col0,#T_623f4c35_d155_11ec_92c4_e0d464800399row83_col0,#T_623f4c35_d155_11ec_92c4_e0d464800399row84_col0,#T_623f4c35_d155_11ec_92c4_e0d464800399row85_col0,#T_623f4c35_d155_11ec_92c4_e0d464800399row86_col0,#T_623f4c35_d155_11ec_92c4_e0d464800399row87_col0,#T_623f4c35_d155_11ec_92c4_e0d464800399row88_col0,#T_623f4c35_d155_11ec_92c4_e0d464800399row89_col0,#T_623f4c35_d155_11ec_92c4_e0d464800399row90_col0,#T_623f4c35_d155_11ec_92c4_e0d464800399row91_col0,#T_623f4c35_d155_11ec_92c4_e0d464800399row92_col0,#T_623f4c35_d155_11ec_92c4_e0d464800399row93_col0,#T_623f4c35_d155_11ec_92c4_e0d464800399row94_col0,#T_623f4c35_d155_11ec_92c4_e0d464800399row95_col0,#T_623f4c35_d155_11ec_92c4_e0d464800399row96_col0,#T_623f4c35_d155_11ec_92c4_e0d464800399row97_col0,#T_623f4c35_d155_11ec_92c4_e0d464800399row98_col0,#T_623f4c35_d155_11ec_92c4_e0d464800399row99_col0,#T_623f4c35_d155_11ec_92c4_e0d464800399row100_col0,#T_623f4c35_d155_11ec_92c4_e0d464800399row101_col0,#T_623f4c35_d155_11ec_92c4_e0d464800399row102_col0,#T_623f4c35_d155_11ec_92c4_e0d464800399row103_col0,#T_623f4c35_d155_11ec_92c4_e0d464800399row104_col0,#T_623f4c35_d155_11ec_92c4_e0d464800399row105_col0,#T_623f4c35_d155_11ec_92c4_e0d464800399row106_col0,#T_623f4c35_d155_11ec_92c4_e0d464800399row107_col0,#T_623f4c35_d155_11ec_92c4_e0d464800399row108_col0,#T_623f4c35_d155_11ec_92c4_e0d464800399row109_col0,#T_623f4c35_d155_11ec_92c4_e0d464800399row110_col0,#T_623f4c35_d155_11ec_92c4_e0d464800399row111_col0,#T_623f4c35_d155_11ec_92c4_e0d464800399row112_col0,#T_623f4c35_d155_11ec_92c4_e0d464800399row113_col0,#T_623f4c35_d155_11ec_92c4_e0d464800399row114_col0,#T_623f4c35_d155_11ec_92c4_e0d464800399row115_col0,#T_623f4c35_d155_11ec_92c4_e0d464800399row116_col0,#T_623f4c35_d155_11ec_92c4_e0d464800399row117_col0,#T_623f4c35_d155_11ec_92c4_e0d464800399row118_col0{\n",
       "            width-min:  300px;\n",
       "        }</style><table id=\"T_623f4c35_d155_11ec_92c4_e0d464800399\" ><thead>    <tr>        <th class=\"blank level0\" ></th>        <th class=\"col_heading level0 col0\" >title</th>        <th class=\"col_heading level0 col1\" >use_is_fake</th>    </tr></thead><tbody>\n",
       "                <tr>\n",
       "                        <th id=\"T_623f4c35_d155_11ec_92c4_e0d464800399level0_row0\" class=\"row_heading level0 row0\" >4</th>\n",
       "                        <td id=\"T_623f4c35_d155_11ec_92c4_e0d464800399row0_col0\" class=\"data row0 col0\" >Акции Google рухнули после объявления о перезапуске RuTube</td>\n",
       "                        <td id=\"T_623f4c35_d155_11ec_92c4_e0d464800399row0_col1\" class=\"data row0 col1\" >1</td>\n",
       "            </tr>\n",
       "            <tr>\n",
       "                        <th id=\"T_623f4c35_d155_11ec_92c4_e0d464800399level0_row1\" class=\"row_heading level0 row1\" >7</th>\n",
       "                        <td id=\"T_623f4c35_d155_11ec_92c4_e0d464800399row1_col0\" class=\"data row1 col0\" >Российская авиакомпания откроет рейсы в Тбилиси с Урала</td>\n",
       "                        <td id=\"T_623f4c35_d155_11ec_92c4_e0d464800399row1_col1\" class=\"data row1 col1\" >1</td>\n",
       "            </tr>\n",
       "            <tr>\n",
       "                        <th id=\"T_623f4c35_d155_11ec_92c4_e0d464800399level0_row2\" class=\"row_heading level0 row2\" >14</th>\n",
       "                        <td id=\"T_623f4c35_d155_11ec_92c4_e0d464800399row2_col0\" class=\"data row2 col0\" >В Екатеринбурге завершился «процесс над бесами»</td>\n",
       "                        <td id=\"T_623f4c35_d155_11ec_92c4_e0d464800399row2_col1\" class=\"data row2 col1\" >1</td>\n",
       "            </tr>\n",
       "            <tr>\n",
       "                        <th id=\"T_623f4c35_d155_11ec_92c4_e0d464800399level0_row3\" class=\"row_heading level0 row3\" >50</th>\n",
       "                        <td id=\"T_623f4c35_d155_11ec_92c4_e0d464800399row3_col0\" class=\"data row3 col0\" >Русская галерея искусств проведет аукцион жанровой живописи</td>\n",
       "                        <td id=\"T_623f4c35_d155_11ec_92c4_e0d464800399row3_col1\" class=\"data row3 col1\" >0</td>\n",
       "            </tr>\n",
       "            <tr>\n",
       "                        <th id=\"T_623f4c35_d155_11ec_92c4_e0d464800399level0_row4\" class=\"row_heading level0 row4\" >53</th>\n",
       "                        <td id=\"T_623f4c35_d155_11ec_92c4_e0d464800399row4_col0\" class=\"data row4 col0\" >«Росатом» построит АЭС в Афганистане</td>\n",
       "                        <td id=\"T_623f4c35_d155_11ec_92c4_e0d464800399row4_col1\" class=\"data row4 col1\" >1</td>\n",
       "            </tr>\n",
       "            <tr>\n",
       "                        <th id=\"T_623f4c35_d155_11ec_92c4_e0d464800399level0_row5\" class=\"row_heading level0 row5\" >58</th>\n",
       "                        <td id=\"T_623f4c35_d155_11ec_92c4_e0d464800399row5_col0\" class=\"data row5 col0\" >За неделю московские квартиры подорожали на процент</td>\n",
       "                        <td id=\"T_623f4c35_d155_11ec_92c4_e0d464800399row5_col1\" class=\"data row5 col1\" >0</td>\n",
       "            </tr>\n",
       "            <tr>\n",
       "                        <th id=\"T_623f4c35_d155_11ec_92c4_e0d464800399level0_row6\" class=\"row_heading level0 row6\" >68</th>\n",
       "                        <td id=\"T_623f4c35_d155_11ec_92c4_e0d464800399row6_col0\" class=\"data row6 col0\" >Организаторы боя Ибрагимов — Холифилд привезли Путину чемпионский пояс</td>\n",
       "                        <td id=\"T_623f4c35_d155_11ec_92c4_e0d464800399row6_col1\" class=\"data row6 col1\" >1</td>\n",
       "            </tr>\n",
       "            <tr>\n",
       "                        <th id=\"T_623f4c35_d155_11ec_92c4_e0d464800399level0_row7\" class=\"row_heading level0 row7\" >83</th>\n",
       "                        <td id=\"T_623f4c35_d155_11ec_92c4_e0d464800399row7_col0\" class=\"data row7 col0\" >Мексика прекратила поставлять в Россию грузовики ЗИЛ-130 из-за санкций США</td>\n",
       "                        <td id=\"T_623f4c35_d155_11ec_92c4_e0d464800399row7_col1\" class=\"data row7 col1\" >1</td>\n",
       "            </tr>\n",
       "            <tr>\n",
       "                        <th id=\"T_623f4c35_d155_11ec_92c4_e0d464800399level0_row8\" class=\"row_heading level0 row8\" >91</th>\n",
       "                        <td id=\"T_623f4c35_d155_11ec_92c4_e0d464800399row8_col0\" class=\"data row8 col0\" >Украина запретила импорт птицы из России</td>\n",
       "                        <td id=\"T_623f4c35_d155_11ec_92c4_e0d464800399row8_col1\" class=\"data row8 col1\" >1</td>\n",
       "            </tr>\n",
       "            <tr>\n",
       "                        <th id=\"T_623f4c35_d155_11ec_92c4_e0d464800399level0_row9\" class=\"row_heading level0 row9\" >121</th>\n",
       "                        <td id=\"T_623f4c35_d155_11ec_92c4_e0d464800399row9_col0\" class=\"data row9 col0\" >В Санкт-Петербурге пройдет фестиваль аудиовизуального искусства Yota Space</td>\n",
       "                        <td id=\"T_623f4c35_d155_11ec_92c4_e0d464800399row9_col1\" class=\"data row9 col1\" >0</td>\n",
       "            </tr>\n",
       "            <tr>\n",
       "                        <th id=\"T_623f4c35_d155_11ec_92c4_e0d464800399level0_row10\" class=\"row_heading level0 row10\" >124</th>\n",
       "                        <td id=\"T_623f4c35_d155_11ec_92c4_e0d464800399row10_col0\" class=\"data row10 col0\" >Вместе с WTC погибла православная церковь</td>\n",
       "                        <td id=\"T_623f4c35_d155_11ec_92c4_e0d464800399row10_col1\" class=\"data row10 col1\" >0</td>\n",
       "            </tr>\n",
       "            <tr>\n",
       "                        <th id=\"T_623f4c35_d155_11ec_92c4_e0d464800399level0_row11\" class=\"row_heading level0 row11\" >125</th>\n",
       "                        <td id=\"T_623f4c35_d155_11ec_92c4_e0d464800399row11_col0\" class=\"data row11 col0\" >Международный союз биатлонистов обвинили в сокрытии допинг-проб россиян</td>\n",
       "                        <td id=\"T_623f4c35_d155_11ec_92c4_e0d464800399row11_col1\" class=\"data row11 col1\" >0</td>\n",
       "            </tr>\n",
       "            <tr>\n",
       "                        <th id=\"T_623f4c35_d155_11ec_92c4_e0d464800399level0_row12\" class=\"row_heading level0 row12\" >133</th>\n",
       "                        <td id=\"T_623f4c35_d155_11ec_92c4_e0d464800399row12_col0\" class=\"data row12 col0\" >Фуркад призвал IBU наказать уличенных в употреблении допинга россиян</td>\n",
       "                        <td id=\"T_623f4c35_d155_11ec_92c4_e0d464800399row12_col1\" class=\"data row12 col1\" >0</td>\n",
       "            </tr>\n",
       "            <tr>\n",
       "                        <th id=\"T_623f4c35_d155_11ec_92c4_e0d464800399level0_row13\" class=\"row_heading level0 row13\" >148</th>\n",
       "                        <td id=\"T_623f4c35_d155_11ec_92c4_e0d464800399row13_col0\" class=\"data row13 col0\" >Россия начала разработку универсальной артустановки для ВДВ</td>\n",
       "                        <td id=\"T_623f4c35_d155_11ec_92c4_e0d464800399row13_col1\" class=\"data row13 col1\" >0</td>\n",
       "            </tr>\n",
       "            <tr>\n",
       "                        <th id=\"T_623f4c35_d155_11ec_92c4_e0d464800399level0_row14\" class=\"row_heading level0 row14\" >162</th>\n",
       "                        <td id=\"T_623f4c35_d155_11ec_92c4_e0d464800399row14_col0\" class=\"data row14 col0\" >Apple замедлит смартфоны белых пользователей</td>\n",
       "                        <td id=\"T_623f4c35_d155_11ec_92c4_e0d464800399row14_col1\" class=\"data row14 col1\" >0</td>\n",
       "            </tr>\n",
       "            <tr>\n",
       "                        <th id=\"T_623f4c35_d155_11ec_92c4_e0d464800399level0_row15\" class=\"row_heading level0 row15\" >169</th>\n",
       "                        <td id=\"T_623f4c35_d155_11ec_92c4_e0d464800399row15_col0\" class=\"data row15 col0\" >Скончался ветеран Пентагона, создавший плеяду анекдотов про Чапаева</td>\n",
       "                        <td id=\"T_623f4c35_d155_11ec_92c4_e0d464800399row15_col1\" class=\"data row15 col1\" >1</td>\n",
       "            </tr>\n",
       "            <tr>\n",
       "                        <th id=\"T_623f4c35_d155_11ec_92c4_e0d464800399level0_row16\" class=\"row_heading level0 row16\" >175</th>\n",
       "                        <td id=\"T_623f4c35_d155_11ec_92c4_e0d464800399row16_col0\" class=\"data row16 col0\" >Подарочные карты iTunes разрешили оплачивать «Яндекс.Деньгами»</td>\n",
       "                        <td id=\"T_623f4c35_d155_11ec_92c4_e0d464800399row16_col1\" class=\"data row16 col1\" >1</td>\n",
       "            </tr>\n",
       "            <tr>\n",
       "                        <th id=\"T_623f4c35_d155_11ec_92c4_e0d464800399level0_row17\" class=\"row_heading level0 row17\" >185</th>\n",
       "                        <td id=\"T_623f4c35_d155_11ec_92c4_e0d464800399row17_col0\" class=\"data row17 col0\" >Россия оставила закрытой тему ЗСТ между Украиной и ЕС</td>\n",
       "                        <td id=\"T_623f4c35_d155_11ec_92c4_e0d464800399row17_col1\" class=\"data row17 col1\" >0</td>\n",
       "            </tr>\n",
       "            <tr>\n",
       "                        <th id=\"T_623f4c35_d155_11ec_92c4_e0d464800399level0_row18\" class=\"row_heading level0 row18\" >189</th>\n",
       "                        <td id=\"T_623f4c35_d155_11ec_92c4_e0d464800399row18_col0\" class=\"data row18 col0\" >В аргентинской провинции нашли похищенную скрипку Страдивари</td>\n",
       "                        <td id=\"T_623f4c35_d155_11ec_92c4_e0d464800399row18_col1\" class=\"data row18 col1\" >0</td>\n",
       "            </tr>\n",
       "            <tr>\n",
       "                        <th id=\"T_623f4c35_d155_11ec_92c4_e0d464800399level0_row19\" class=\"row_heading level0 row19\" >211</th>\n",
       "                        <td id=\"T_623f4c35_d155_11ec_92c4_e0d464800399row19_col0\" class=\"data row19 col0\" >«Газпром» объявил тарифы на бесплатную газификацию частных домов</td>\n",
       "                        <td id=\"T_623f4c35_d155_11ec_92c4_e0d464800399row19_col1\" class=\"data row19 col1\" >0</td>\n",
       "            </tr>\n",
       "            <tr>\n",
       "                        <th id=\"T_623f4c35_d155_11ec_92c4_e0d464800399level0_row20\" class=\"row_heading level0 row20\" >214</th>\n",
       "                        <td id=\"T_623f4c35_d155_11ec_92c4_e0d464800399row20_col0\" class=\"data row20 col0\" >Навальный приобрёл виллу на берегу озера Комо</td>\n",
       "                        <td id=\"T_623f4c35_d155_11ec_92c4_e0d464800399row20_col1\" class=\"data row20 col1\" >1</td>\n",
       "            </tr>\n",
       "            <tr>\n",
       "                        <th id=\"T_623f4c35_d155_11ec_92c4_e0d464800399level0_row21\" class=\"row_heading level0 row21\" >218</th>\n",
       "                        <td id=\"T_623f4c35_d155_11ec_92c4_e0d464800399row21_col0\" class=\"data row21 col0\" >Главу итальянского партнера «Сухого» арестовали за взятки</td>\n",
       "                        <td id=\"T_623f4c35_d155_11ec_92c4_e0d464800399row21_col1\" class=\"data row21 col1\" >1</td>\n",
       "            </tr>\n",
       "            <tr>\n",
       "                        <th id=\"T_623f4c35_d155_11ec_92c4_e0d464800399level0_row22\" class=\"row_heading level0 row22\" >251</th>\n",
       "                        <td id=\"T_623f4c35_d155_11ec_92c4_e0d464800399row22_col0\" class=\"data row22 col0\" >Испытания роботокомлекса «Турель» в ДНР попали на видео</td>\n",
       "                        <td id=\"T_623f4c35_d155_11ec_92c4_e0d464800399row22_col1\" class=\"data row22 col1\" >1</td>\n",
       "            </tr>\n",
       "            <tr>\n",
       "                        <th id=\"T_623f4c35_d155_11ec_92c4_e0d464800399level0_row23\" class=\"row_heading level0 row23\" >253</th>\n",
       "                        <td id=\"T_623f4c35_d155_11ec_92c4_e0d464800399row23_col0\" class=\"data row23 col0\" >Google извинился за баг с исчезновением Израиля с сервисных карт компании</td>\n",
       "                        <td id=\"T_623f4c35_d155_11ec_92c4_e0d464800399row23_col1\" class=\"data row23 col1\" >1</td>\n",
       "            </tr>\n",
       "            <tr>\n",
       "                        <th id=\"T_623f4c35_d155_11ec_92c4_e0d464800399level0_row24\" class=\"row_heading level0 row24\" >260</th>\n",
       "                        <td id=\"T_623f4c35_d155_11ec_92c4_e0d464800399row24_col0\" class=\"data row24 col0\" >Партия запретила миллиарду китайцев смотреть на Анджелину Джоли</td>\n",
       "                        <td id=\"T_623f4c35_d155_11ec_92c4_e0d464800399row24_col1\" class=\"data row24 col1\" >1</td>\n",
       "            </tr>\n",
       "            <tr>\n",
       "                        <th id=\"T_623f4c35_d155_11ec_92c4_e0d464800399level0_row25\" class=\"row_heading level0 row25\" >264</th>\n",
       "                        <td id=\"T_623f4c35_d155_11ec_92c4_e0d464800399row25_col0\" class=\"data row25 col0\" >Две подлодки типа Щука доставили на утилизацию на нидерландском судне</td>\n",
       "                        <td id=\"T_623f4c35_d155_11ec_92c4_e0d464800399row25_col1\" class=\"data row25 col1\" >1</td>\n",
       "            </tr>\n",
       "            <tr>\n",
       "                        <th id=\"T_623f4c35_d155_11ec_92c4_e0d464800399level0_row26\" class=\"row_heading level0 row26\" >267</th>\n",
       "                        <td id=\"T_623f4c35_d155_11ec_92c4_e0d464800399row26_col0\" class=\"data row26 col0\" >Россия наращивает поставки ракет класса «земля-воздух» в Турцию</td>\n",
       "                        <td id=\"T_623f4c35_d155_11ec_92c4_e0d464800399row26_col1\" class=\"data row26 col1\" >0</td>\n",
       "            </tr>\n",
       "            <tr>\n",
       "                        <th id=\"T_623f4c35_d155_11ec_92c4_e0d464800399level0_row27\" class=\"row_heading level0 row27\" >276</th>\n",
       "                        <td id=\"T_623f4c35_d155_11ec_92c4_e0d464800399row27_col0\" class=\"data row27 col0\" >Описан механизм уничтожения аборигенов и экосистем Америки</td>\n",
       "                        <td id=\"T_623f4c35_d155_11ec_92c4_e0d464800399row27_col1\" class=\"data row27 col1\" >0</td>\n",
       "            </tr>\n",
       "            <tr>\n",
       "                        <th id=\"T_623f4c35_d155_11ec_92c4_e0d464800399level0_row28\" class=\"row_heading level0 row28\" >278</th>\n",
       "                        <td id=\"T_623f4c35_d155_11ec_92c4_e0d464800399row28_col0\" class=\"data row28 col0\" >Гимнастка из Узбекистана поехала на Чемпионат мира, чтобы спасти больного сына</td>\n",
       "                        <td id=\"T_623f4c35_d155_11ec_92c4_e0d464800399row28_col1\" class=\"data row28 col1\" >0</td>\n",
       "            </tr>\n",
       "            <tr>\n",
       "                        <th id=\"T_623f4c35_d155_11ec_92c4_e0d464800399level0_row29\" class=\"row_heading level0 row29\" >282</th>\n",
       "                        <td id=\"T_623f4c35_d155_11ec_92c4_e0d464800399row29_col0\" class=\"data row29 col0\" >ФАС изучит пасьянс «Косынка» на предмет возникновения нерешаемых раскладов</td>\n",
       "                        <td id=\"T_623f4c35_d155_11ec_92c4_e0d464800399row29_col1\" class=\"data row29 col1\" >0</td>\n",
       "            </tr>\n",
       "            <tr>\n",
       "                        <th id=\"T_623f4c35_d155_11ec_92c4_e0d464800399level0_row30\" class=\"row_heading level0 row30\" >287</th>\n",
       "                        <td id=\"T_623f4c35_d155_11ec_92c4_e0d464800399row30_col0\" class=\"data row30 col0\" >МОК включил в программу зимних Олимпиад четыре новые дисциплины</td>\n",
       "                        <td id=\"T_623f4c35_d155_11ec_92c4_e0d464800399row30_col1\" class=\"data row30 col1\" >1</td>\n",
       "            </tr>\n",
       "            <tr>\n",
       "                        <th id=\"T_623f4c35_d155_11ec_92c4_e0d464800399level0_row31\" class=\"row_heading level0 row31\" >299</th>\n",
       "                        <td id=\"T_623f4c35_d155_11ec_92c4_e0d464800399row31_col0\" class=\"data row31 col0\" >Лукашенко приказал отправить белорусских футболистов на урановые рудники</td>\n",
       "                        <td id=\"T_623f4c35_d155_11ec_92c4_e0d464800399row31_col1\" class=\"data row31 col1\" >1</td>\n",
       "            </tr>\n",
       "            <tr>\n",
       "                        <th id=\"T_623f4c35_d155_11ec_92c4_e0d464800399level0_row32\" class=\"row_heading level0 row32\" >309</th>\n",
       "                        <td id=\"T_623f4c35_d155_11ec_92c4_e0d464800399row32_col0\" class=\"data row32 col0\" >Минфин предложил уволить каждого пятого федерального чиновника</td>\n",
       "                        <td id=\"T_623f4c35_d155_11ec_92c4_e0d464800399row32_col1\" class=\"data row32 col1\" >0</td>\n",
       "            </tr>\n",
       "            <tr>\n",
       "                        <th id=\"T_623f4c35_d155_11ec_92c4_e0d464800399level0_row33\" class=\"row_heading level0 row33\" >311</th>\n",
       "                        <td id=\"T_623f4c35_d155_11ec_92c4_e0d464800399row33_col0\" class=\"data row33 col0\" >Дочка Рособоронэкспорта займется авиаперевозками</td>\n",
       "                        <td id=\"T_623f4c35_d155_11ec_92c4_e0d464800399row33_col1\" class=\"data row33 col1\" >1</td>\n",
       "            </tr>\n",
       "            <tr>\n",
       "                        <th id=\"T_623f4c35_d155_11ec_92c4_e0d464800399level0_row34\" class=\"row_heading level0 row34\" >336</th>\n",
       "                        <td id=\"T_623f4c35_d155_11ec_92c4_e0d464800399row34_col0\" class=\"data row34 col0\" >Певица Manizha станет обликом России на ВДНХ</td>\n",
       "                        <td id=\"T_623f4c35_d155_11ec_92c4_e0d464800399row34_col1\" class=\"data row34 col1\" >0</td>\n",
       "            </tr>\n",
       "            <tr>\n",
       "                        <th id=\"T_623f4c35_d155_11ec_92c4_e0d464800399level0_row35\" class=\"row_heading level0 row35\" >341</th>\n",
       "                        <td id=\"T_623f4c35_d155_11ec_92c4_e0d464800399row35_col0\" class=\"data row35 col0\" >Иллюстрации к книгам про Винни Пуха выставят на аукцион</td>\n",
       "                        <td id=\"T_623f4c35_d155_11ec_92c4_e0d464800399row35_col1\" class=\"data row35 col1\" >0</td>\n",
       "            </tr>\n",
       "            <tr>\n",
       "                        <th id=\"T_623f4c35_d155_11ec_92c4_e0d464800399level0_row36\" class=\"row_heading level0 row36\" >343</th>\n",
       "                        <td id=\"T_623f4c35_d155_11ec_92c4_e0d464800399row36_col0\" class=\"data row36 col0\" >Евровидение выделило квоту на призовые места для чернокожих исполнителей</td>\n",
       "                        <td id=\"T_623f4c35_d155_11ec_92c4_e0d464800399row36_col1\" class=\"data row36 col1\" >0</td>\n",
       "            </tr>\n",
       "            <tr>\n",
       "                        <th id=\"T_623f4c35_d155_11ec_92c4_e0d464800399level0_row37\" class=\"row_heading level0 row37\" >352</th>\n",
       "                        <td id=\"T_623f4c35_d155_11ec_92c4_e0d464800399row37_col0\" class=\"data row37 col0\" >Петров и Боширов стали членами Общественной палаты России</td>\n",
       "                        <td id=\"T_623f4c35_d155_11ec_92c4_e0d464800399row37_col1\" class=\"data row37 col1\" >1</td>\n",
       "            </tr>\n",
       "            <tr>\n",
       "                        <th id=\"T_623f4c35_d155_11ec_92c4_e0d464800399level0_row38\" class=\"row_heading level0 row38\" >356</th>\n",
       "                        <td id=\"T_623f4c35_d155_11ec_92c4_e0d464800399row38_col0\" class=\"data row38 col0\" >Решение о возвращении государству Столичной водки вступило в силу</td>\n",
       "                        <td id=\"T_623f4c35_d155_11ec_92c4_e0d464800399row38_col1\" class=\"data row38 col1\" >0</td>\n",
       "            </tr>\n",
       "            <tr>\n",
       "                        <th id=\"T_623f4c35_d155_11ec_92c4_e0d464800399level0_row39\" class=\"row_heading level0 row39\" >363</th>\n",
       "                        <td id=\"T_623f4c35_d155_11ec_92c4_e0d464800399row39_col0\" class=\"data row39 col0\" >Квентин Тарантино объявил себя наследником Эдисона</td>\n",
       "                        <td id=\"T_623f4c35_d155_11ec_92c4_e0d464800399row39_col1\" class=\"data row39 col1\" >0</td>\n",
       "            </tr>\n",
       "            <tr>\n",
       "                        <th id=\"T_623f4c35_d155_11ec_92c4_e0d464800399level0_row40\" class=\"row_heading level0 row40\" >369</th>\n",
       "                        <td id=\"T_623f4c35_d155_11ec_92c4_e0d464800399row40_col0\" class=\"data row40 col0\" >На хакерском конкурсе взломали iPhone 4S и Galaxy S III</td>\n",
       "                        <td id=\"T_623f4c35_d155_11ec_92c4_e0d464800399row40_col1\" class=\"data row40 col1\" >1</td>\n",
       "            </tr>\n",
       "            <tr>\n",
       "                        <th id=\"T_623f4c35_d155_11ec_92c4_e0d464800399level0_row41\" class=\"row_heading level0 row41\" >372</th>\n",
       "                        <td id=\"T_623f4c35_d155_11ec_92c4_e0d464800399row41_col0\" class=\"data row41 col0\" >Сбербанк будет выдавать потребительский кредит на смену пола</td>\n",
       "                        <td id=\"T_623f4c35_d155_11ec_92c4_e0d464800399row41_col1\" class=\"data row41 col1\" >1</td>\n",
       "            </tr>\n",
       "            <tr>\n",
       "                        <th id=\"T_623f4c35_d155_11ec_92c4_e0d464800399level0_row42\" class=\"row_heading level0 row42\" >382</th>\n",
       "                        <td id=\"T_623f4c35_d155_11ec_92c4_e0d464800399row42_col0\" class=\"data row42 col0\" >Новогодние выходные сократят до трёх дней</td>\n",
       "                        <td id=\"T_623f4c35_d155_11ec_92c4_e0d464800399row42_col1\" class=\"data row42 col1\" >1</td>\n",
       "            </tr>\n",
       "            <tr>\n",
       "                        <th id=\"T_623f4c35_d155_11ec_92c4_e0d464800399level0_row43\" class=\"row_heading level0 row43\" >396</th>\n",
       "                        <td id=\"T_623f4c35_d155_11ec_92c4_e0d464800399row43_col0\" class=\"data row43 col0\" >#РИФМЫ НЕДЕЛИ</td>\n",
       "                        <td id=\"T_623f4c35_d155_11ec_92c4_e0d464800399row43_col1\" class=\"data row43 col1\" >1</td>\n",
       "            </tr>\n",
       "            <tr>\n",
       "                        <th id=\"T_623f4c35_d155_11ec_92c4_e0d464800399level0_row44\" class=\"row_heading level0 row44\" >404</th>\n",
       "                        <td id=\"T_623f4c35_d155_11ec_92c4_e0d464800399row44_col0\" class=\"data row44 col0\" >Российской фигуристке попала в рот муха во время танца</td>\n",
       "                        <td id=\"T_623f4c35_d155_11ec_92c4_e0d464800399row44_col1\" class=\"data row44 col1\" >0</td>\n",
       "            </tr>\n",
       "            <tr>\n",
       "                        <th id=\"T_623f4c35_d155_11ec_92c4_e0d464800399level0_row45\" class=\"row_heading level0 row45\" >405</th>\n",
       "                        <td id=\"T_623f4c35_d155_11ec_92c4_e0d464800399row45_col0\" class=\"data row45 col0\" >Путин и Байден договорились о следующей встрече на вилле в Геленджике</td>\n",
       "                        <td id=\"T_623f4c35_d155_11ec_92c4_e0d464800399row45_col1\" class=\"data row45 col1\" >1</td>\n",
       "            </tr>\n",
       "            <tr>\n",
       "                        <th id=\"T_623f4c35_d155_11ec_92c4_e0d464800399level0_row46\" class=\"row_heading level0 row46\" >408</th>\n",
       "                        <td id=\"T_623f4c35_d155_11ec_92c4_e0d464800399row46_col0\" class=\"data row46 col0\" >С авианесущего крейсера «Адмирал Кузнецов» похищена защита от дурака</td>\n",
       "                        <td id=\"T_623f4c35_d155_11ec_92c4_e0d464800399row46_col1\" class=\"data row46 col1\" >0</td>\n",
       "            </tr>\n",
       "            <tr>\n",
       "                        <th id=\"T_623f4c35_d155_11ec_92c4_e0d464800399level0_row47\" class=\"row_heading level0 row47\" >410</th>\n",
       "                        <td id=\"T_623f4c35_d155_11ec_92c4_e0d464800399row47_col0\" class=\"data row47 col0\" >Чемпионат Турции приостановлен из-за обстрела автобуса «Фенербахче»</td>\n",
       "                        <td id=\"T_623f4c35_d155_11ec_92c4_e0d464800399row47_col1\" class=\"data row47 col1\" >0</td>\n",
       "            </tr>\n",
       "            <tr>\n",
       "                        <th id=\"T_623f4c35_d155_11ec_92c4_e0d464800399level0_row48\" class=\"row_heading level0 row48\" >424</th>\n",
       "                        <td id=\"T_623f4c35_d155_11ec_92c4_e0d464800399row48_col0\" class=\"data row48 col0\" >Химфак МГУ начнёт подготовку барист</td>\n",
       "                        <td id=\"T_623f4c35_d155_11ec_92c4_e0d464800399row48_col1\" class=\"data row48 col1\" >0</td>\n",
       "            </tr>\n",
       "            <tr>\n",
       "                        <th id=\"T_623f4c35_d155_11ec_92c4_e0d464800399level0_row49\" class=\"row_heading level0 row49\" >426</th>\n",
       "                        <td id=\"T_623f4c35_d155_11ec_92c4_e0d464800399row49_col0\" class=\"data row49 col0\" >Google подала кассационную жалобу на решения судов в пользу ФАС</td>\n",
       "                        <td id=\"T_623f4c35_d155_11ec_92c4_e0d464800399row49_col1\" class=\"data row49 col1\" >0</td>\n",
       "            </tr>\n",
       "            <tr>\n",
       "                        <th id=\"T_623f4c35_d155_11ec_92c4_e0d464800399level0_row50\" class=\"row_heading level0 row50\" >435</th>\n",
       "                        <td id=\"T_623f4c35_d155_11ec_92c4_e0d464800399row50_col0\" class=\"data row50 col0\" >IKEA предоставит российским однополым парам скидки 30%</td>\n",
       "                        <td id=\"T_623f4c35_d155_11ec_92c4_e0d464800399row50_col1\" class=\"data row50 col1\" >0</td>\n",
       "            </tr>\n",
       "            <tr>\n",
       "                        <th id=\"T_623f4c35_d155_11ec_92c4_e0d464800399level0_row51\" class=\"row_heading level0 row51\" >447</th>\n",
       "                        <td id=\"T_623f4c35_d155_11ec_92c4_e0d464800399row51_col0\" class=\"data row51 col0\" >Байден не исключает возможности проведения тайной инаугурации</td>\n",
       "                        <td id=\"T_623f4c35_d155_11ec_92c4_e0d464800399row51_col1\" class=\"data row51 col1\" >1</td>\n",
       "            </tr>\n",
       "            <tr>\n",
       "                        <th id=\"T_623f4c35_d155_11ec_92c4_e0d464800399level0_row52\" class=\"row_heading level0 row52\" >495</th>\n",
       "                        <td id=\"T_623f4c35_d155_11ec_92c4_e0d464800399row52_col0\" class=\"data row52 col0\" >МОК объявил о переносе Олимпиады из Токио в Геленджик</td>\n",
       "                        <td id=\"T_623f4c35_d155_11ec_92c4_e0d464800399row52_col1\" class=\"data row52 col1\" >0</td>\n",
       "            </tr>\n",
       "            <tr>\n",
       "                        <th id=\"T_623f4c35_d155_11ec_92c4_e0d464800399level0_row53\" class=\"row_heading level0 row53\" >512</th>\n",
       "                        <td id=\"T_623f4c35_d155_11ec_92c4_e0d464800399row53_col0\" class=\"data row53 col0\" >Французские исследователи обнаружили в древнегреческих мифах упоминание богини бодипозитива</td>\n",
       "                        <td id=\"T_623f4c35_d155_11ec_92c4_e0d464800399row53_col1\" class=\"data row53 col1\" >0</td>\n",
       "            </tr>\n",
       "            <tr>\n",
       "                        <th id=\"T_623f4c35_d155_11ec_92c4_e0d464800399level0_row54\" class=\"row_heading level0 row54\" >536</th>\n",
       "                        <td id=\"T_623f4c35_d155_11ec_92c4_e0d464800399row54_col0\" class=\"data row54 col0\" >Нидерландская FrieslandCampina прекратила выпуск сыра для России</td>\n",
       "                        <td id=\"T_623f4c35_d155_11ec_92c4_e0d464800399row54_col1\" class=\"data row54 col1\" >1</td>\n",
       "            </tr>\n",
       "            <tr>\n",
       "                        <th id=\"T_623f4c35_d155_11ec_92c4_e0d464800399level0_row55\" class=\"row_heading level0 row55\" >539</th>\n",
       "                        <td id=\"T_623f4c35_d155_11ec_92c4_e0d464800399row55_col0\" class=\"data row55 col0\" >В России начали блокировать банковские карты со слишком низкими зарплатами</td>\n",
       "                        <td id=\"T_623f4c35_d155_11ec_92c4_e0d464800399row55_col1\" class=\"data row55 col1\" >1</td>\n",
       "            </tr>\n",
       "            <tr>\n",
       "                        <th id=\"T_623f4c35_d155_11ec_92c4_e0d464800399level0_row56\" class=\"row_heading level0 row56\" >542</th>\n",
       "                        <td id=\"T_623f4c35_d155_11ec_92c4_e0d464800399row56_col0\" class=\"data row56 col0\" >Кеосаян снимет сериал о штурме дома «мытищинского стрелка»</td>\n",
       "                        <td id=\"T_623f4c35_d155_11ec_92c4_e0d464800399row56_col1\" class=\"data row56 col1\" >0</td>\n",
       "            </tr>\n",
       "            <tr>\n",
       "                        <th id=\"T_623f4c35_d155_11ec_92c4_e0d464800399level0_row57\" class=\"row_heading level0 row57\" >543</th>\n",
       "                        <td id=\"T_623f4c35_d155_11ec_92c4_e0d464800399row57_col0\" class=\"data row57 col0\" >К участникам и зрителям шоу «Голос» пришла полиция</td>\n",
       "                        <td id=\"T_623f4c35_d155_11ec_92c4_e0d464800399row57_col1\" class=\"data row57 col1\" >1</td>\n",
       "            </tr>\n",
       "            <tr>\n",
       "                        <th id=\"T_623f4c35_d155_11ec_92c4_e0d464800399level0_row58\" class=\"row_heading level0 row58\" >582</th>\n",
       "                        <td id=\"T_623f4c35_d155_11ec_92c4_e0d464800399row58_col0\" class=\"data row58 col0\" >На открытии обновлённой Парижской филармонии симфонический оркестр исполнит одну из композиций Моргенштерна</td>\n",
       "                        <td id=\"T_623f4c35_d155_11ec_92c4_e0d464800399row58_col1\" class=\"data row58 col1\" >0</td>\n",
       "            </tr>\n",
       "            <tr>\n",
       "                        <th id=\"T_623f4c35_d155_11ec_92c4_e0d464800399level0_row59\" class=\"row_heading level0 row59\" >592</th>\n",
       "                        <td id=\"T_623f4c35_d155_11ec_92c4_e0d464800399row59_col0\" class=\"data row59 col0\" >Apple представила эко-версию iPhone 13, распространяемую без упаковки</td>\n",
       "                        <td id=\"T_623f4c35_d155_11ec_92c4_e0d464800399row59_col1\" class=\"data row59 col1\" >1</td>\n",
       "            </tr>\n",
       "            <tr>\n",
       "                        <th id=\"T_623f4c35_d155_11ec_92c4_e0d464800399level0_row60\" class=\"row_heading level0 row60\" >594</th>\n",
       "                        <td id=\"T_623f4c35_d155_11ec_92c4_e0d464800399row60_col0\" class=\"data row60 col0\" >Группе «Тараканы!» отказали во въезде на Украину</td>\n",
       "                        <td id=\"T_623f4c35_d155_11ec_92c4_e0d464800399row60_col1\" class=\"data row60 col1\" >1</td>\n",
       "            </tr>\n",
       "            <tr>\n",
       "                        <th id=\"T_623f4c35_d155_11ec_92c4_e0d464800399level0_row61\" class=\"row_heading level0 row61\" >595</th>\n",
       "                        <td id=\"T_623f4c35_d155_11ec_92c4_e0d464800399row61_col0\" class=\"data row61 col0\" >Google сократит 4000 рабочих мест в Motorola Mobility</td>\n",
       "                        <td id=\"T_623f4c35_d155_11ec_92c4_e0d464800399row61_col1\" class=\"data row61 col1\" >0</td>\n",
       "            </tr>\n",
       "            <tr>\n",
       "                        <th id=\"T_623f4c35_d155_11ec_92c4_e0d464800399level0_row62\" class=\"row_heading level0 row62\" >599</th>\n",
       "                        <td id=\"T_623f4c35_d155_11ec_92c4_e0d464800399row62_col0\" class=\"data row62 col0\" >Гонка с препятствиями «Стань человеком-3» пройдет в Москве 3 и 4 октября</td>\n",
       "                        <td id=\"T_623f4c35_d155_11ec_92c4_e0d464800399row62_col1\" class=\"data row62 col1\" >0</td>\n",
       "            </tr>\n",
       "            <tr>\n",
       "                        <th id=\"T_623f4c35_d155_11ec_92c4_e0d464800399level0_row63\" class=\"row_heading level0 row63\" >606</th>\n",
       "                        <td id=\"T_623f4c35_d155_11ec_92c4_e0d464800399row63_col0\" class=\"data row63 col0\" >Гнилостные грибы помогут улучшить звучание скрипок</td>\n",
       "                        <td id=\"T_623f4c35_d155_11ec_92c4_e0d464800399row63_col1\" class=\"data row63 col1\" >0</td>\n",
       "            </tr>\n",
       "            <tr>\n",
       "                        <th id=\"T_623f4c35_d155_11ec_92c4_e0d464800399level0_row64\" class=\"row_heading level0 row64\" >611</th>\n",
       "                        <td id=\"T_623f4c35_d155_11ec_92c4_e0d464800399row64_col0\" class=\"data row64 col0\" >Обладатель прав на песни Цоя подал в суд на «ВКонтакте»</td>\n",
       "                        <td id=\"T_623f4c35_d155_11ec_92c4_e0d464800399row64_col1\" class=\"data row64 col1\" >0</td>\n",
       "            </tr>\n",
       "            <tr>\n",
       "                        <th id=\"T_623f4c35_d155_11ec_92c4_e0d464800399level0_row65\" class=\"row_heading level0 row65\" >615</th>\n",
       "                        <td id=\"T_623f4c35_d155_11ec_92c4_e0d464800399row65_col0\" class=\"data row65 col0\" >Новый порядок госзакупок за год сэкономит 230 миллиардов рублей</td>\n",
       "                        <td id=\"T_623f4c35_d155_11ec_92c4_e0d464800399row65_col1\" class=\"data row65 col1\" >0</td>\n",
       "            </tr>\n",
       "            <tr>\n",
       "                        <th id=\"T_623f4c35_d155_11ec_92c4_e0d464800399level0_row66\" class=\"row_heading level0 row66\" >621</th>\n",
       "                        <td id=\"T_623f4c35_d155_11ec_92c4_e0d464800399row66_col0\" class=\"data row66 col0\" >Дмитрий Козак провел заседание оргкомитета Российского инвестиционного форума</td>\n",
       "                        <td id=\"T_623f4c35_d155_11ec_92c4_e0d464800399row66_col1\" class=\"data row66 col1\" >1</td>\n",
       "            </tr>\n",
       "            <tr>\n",
       "                        <th id=\"T_623f4c35_d155_11ec_92c4_e0d464800399level0_row67\" class=\"row_heading level0 row67\" >630</th>\n",
       "                        <td id=\"T_623f4c35_d155_11ec_92c4_e0d464800399row67_col0\" class=\"data row67 col0\" >Илон Маск посетовал на невозможность ускорить выход Half-Life 3</td>\n",
       "                        <td id=\"T_623f4c35_d155_11ec_92c4_e0d464800399row67_col1\" class=\"data row67 col1\" >0</td>\n",
       "            </tr>\n",
       "            <tr>\n",
       "                        <th id=\"T_623f4c35_d155_11ec_92c4_e0d464800399level0_row68\" class=\"row_heading level0 row68\" >632</th>\n",
       "                        <td id=\"T_623f4c35_d155_11ec_92c4_e0d464800399row68_col0\" class=\"data row68 col0\" >Комедия «Горько!» сместила «Сталинград» с первого места в прокате</td>\n",
       "                        <td id=\"T_623f4c35_d155_11ec_92c4_e0d464800399row68_col1\" class=\"data row68 col1\" >0</td>\n",
       "            </tr>\n",
       "            <tr>\n",
       "                        <th id=\"T_623f4c35_d155_11ec_92c4_e0d464800399level0_row69\" class=\"row_heading level0 row69\" >643</th>\n",
       "                        <td id=\"T_623f4c35_d155_11ec_92c4_e0d464800399row69_col0\" class=\"data row69 col0\" >Доктор Мясников призвал россиян делать меньше вдохов</td>\n",
       "                        <td id=\"T_623f4c35_d155_11ec_92c4_e0d464800399row69_col1\" class=\"data row69 col1\" >0</td>\n",
       "            </tr>\n",
       "            <tr>\n",
       "                        <th id=\"T_623f4c35_d155_11ec_92c4_e0d464800399level0_row70\" class=\"row_heading level0 row70\" >651</th>\n",
       "                        <td id=\"T_623f4c35_d155_11ec_92c4_e0d464800399row70_col0\" class=\"data row70 col0\" >В России появилась первая улица имени Фанни Каплан</td>\n",
       "                        <td id=\"T_623f4c35_d155_11ec_92c4_e0d464800399row70_col1\" class=\"data row70 col1\" >1</td>\n",
       "            </tr>\n",
       "            <tr>\n",
       "                        <th id=\"T_623f4c35_d155_11ec_92c4_e0d464800399level0_row71\" class=\"row_heading level0 row71\" >658</th>\n",
       "                        <td id=\"T_623f4c35_d155_11ec_92c4_e0d464800399row71_col0\" class=\"data row71 col0\" >Совершена попытка захвата Братского лесокомбината</td>\n",
       "                        <td id=\"T_623f4c35_d155_11ec_92c4_e0d464800399row71_col1\" class=\"data row71 col1\" >1</td>\n",
       "            </tr>\n",
       "            <tr>\n",
       "                        <th id=\"T_623f4c35_d155_11ec_92c4_e0d464800399level0_row72\" class=\"row_heading level0 row72\" >665</th>\n",
       "                        <td id=\"T_623f4c35_d155_11ec_92c4_e0d464800399row72_col0\" class=\"data row72 col0\" >Макрон извинился перед мигрантом, давшим ему пощёчину</td>\n",
       "                        <td id=\"T_623f4c35_d155_11ec_92c4_e0d464800399row72_col1\" class=\"data row72 col1\" >1</td>\n",
       "            </tr>\n",
       "            <tr>\n",
       "                        <th id=\"T_623f4c35_d155_11ec_92c4_e0d464800399level0_row73\" class=\"row_heading level0 row73\" >672</th>\n",
       "                        <td id=\"T_623f4c35_d155_11ec_92c4_e0d464800399row73_col0\" class=\"data row73 col0\" >Президент шахматной федерации США ответил на обвинения Илюмжинова</td>\n",
       "                        <td id=\"T_623f4c35_d155_11ec_92c4_e0d464800399row73_col1\" class=\"data row73 col1\" >0</td>\n",
       "            </tr>\n",
       "            <tr>\n",
       "                        <th id=\"T_623f4c35_d155_11ec_92c4_e0d464800399level0_row74\" class=\"row_heading level0 row74\" >689</th>\n",
       "                        <td id=\"T_623f4c35_d155_11ec_92c4_e0d464800399row74_col0\" class=\"data row74 col0\" >Специалисты по ролевым играм будут работать в новом жанре</td>\n",
       "                        <td id=\"T_623f4c35_d155_11ec_92c4_e0d464800399row74_col1\" class=\"data row74 col1\" >1</td>\n",
       "            </tr>\n",
       "            <tr>\n",
       "                        <th id=\"T_623f4c35_d155_11ec_92c4_e0d464800399level0_row75\" class=\"row_heading level0 row75\" >690</th>\n",
       "                        <td id=\"T_623f4c35_d155_11ec_92c4_e0d464800399row75_col0\" class=\"data row75 col0\" >Эксперты заявили о поджоге Троицкого собора</td>\n",
       "                        <td id=\"T_623f4c35_d155_11ec_92c4_e0d464800399row75_col1\" class=\"data row75 col1\" >0</td>\n",
       "            </tr>\n",
       "            <tr>\n",
       "                        <th id=\"T_623f4c35_d155_11ec_92c4_e0d464800399level0_row76\" class=\"row_heading level0 row76\" >700</th>\n",
       "                        <td id=\"T_623f4c35_d155_11ec_92c4_e0d464800399row76_col0\" class=\"data row76 col0\" >Антимонопольщики уличили таможенников в нарушении закона о госзакупках</td>\n",
       "                        <td id=\"T_623f4c35_d155_11ec_92c4_e0d464800399row76_col1\" class=\"data row76 col1\" >0</td>\n",
       "            </tr>\n",
       "            <tr>\n",
       "                        <th id=\"T_623f4c35_d155_11ec_92c4_e0d464800399level0_row77\" class=\"row_heading level0 row77\" >712</th>\n",
       "                        <td id=\"T_623f4c35_d155_11ec_92c4_e0d464800399row77_col0\" class=\"data row77 col0\" >«Лестницу Иакова» переснимут</td>\n",
       "                        <td id=\"T_623f4c35_d155_11ec_92c4_e0d464800399row77_col1\" class=\"data row77 col1\" >0</td>\n",
       "            </tr>\n",
       "            <tr>\n",
       "                        <th id=\"T_623f4c35_d155_11ec_92c4_e0d464800399level0_row78\" class=\"row_heading level0 row78\" >715</th>\n",
       "                        <td id=\"T_623f4c35_d155_11ec_92c4_e0d464800399row78_col0\" class=\"data row78 col0\" >Россия поможет перуанским ВВС отремонтировать вертолеты</td>\n",
       "                        <td id=\"T_623f4c35_d155_11ec_92c4_e0d464800399row78_col1\" class=\"data row78 col1\" >0</td>\n",
       "            </tr>\n",
       "            <tr>\n",
       "                        <th id=\"T_623f4c35_d155_11ec_92c4_e0d464800399level0_row79\" class=\"row_heading level0 row79\" >717</th>\n",
       "                        <td id=\"T_623f4c35_d155_11ec_92c4_e0d464800399row79_col0\" class=\"data row79 col0\" >Названы сроки переворота магнитных полюсов Земли</td>\n",
       "                        <td id=\"T_623f4c35_d155_11ec_92c4_e0d464800399row79_col1\" class=\"data row79 col1\" >0</td>\n",
       "            </tr>\n",
       "            <tr>\n",
       "                        <th id=\"T_623f4c35_d155_11ec_92c4_e0d464800399level0_row80\" class=\"row_heading level0 row80\" >725</th>\n",
       "                        <td id=\"T_623f4c35_d155_11ec_92c4_e0d464800399row80_col0\" class=\"data row80 col0\" >«Русал» приостановил производство на Богословском заводе</td>\n",
       "                        <td id=\"T_623f4c35_d155_11ec_92c4_e0d464800399row80_col1\" class=\"data row80 col1\" >0</td>\n",
       "            </tr>\n",
       "            <tr>\n",
       "                        <th id=\"T_623f4c35_d155_11ec_92c4_e0d464800399level0_row81\" class=\"row_heading level0 row81\" >732</th>\n",
       "                        <td id=\"T_623f4c35_d155_11ec_92c4_e0d464800399row81_col0\" class=\"data row81 col0\" >Россия-1 покажет 9 мая спектакль Голая пионерка</td>\n",
       "                        <td id=\"T_623f4c35_d155_11ec_92c4_e0d464800399row81_col1\" class=\"data row81 col1\" >0</td>\n",
       "            </tr>\n",
       "            <tr>\n",
       "                        <th id=\"T_623f4c35_d155_11ec_92c4_e0d464800399level0_row82\" class=\"row_heading level0 row82\" >740</th>\n",
       "                        <td id=\"T_623f4c35_d155_11ec_92c4_e0d464800399row82_col0\" class=\"data row82 col0\" >«Брянск-Север»: хакеры взломали пароль Пентагона</td>\n",
       "                        <td id=\"T_623f4c35_d155_11ec_92c4_e0d464800399row82_col1\" class=\"data row82 col1\" >1</td>\n",
       "            </tr>\n",
       "            <tr>\n",
       "                        <th id=\"T_623f4c35_d155_11ec_92c4_e0d464800399level0_row83\" class=\"row_heading level0 row83\" >754</th>\n",
       "                        <td id=\"T_623f4c35_d155_11ec_92c4_e0d464800399row83_col0\" class=\"data row83 col0\" >Илон Маск попал на сайт «Миротворец»</td>\n",
       "                        <td id=\"T_623f4c35_d155_11ec_92c4_e0d464800399row83_col1\" class=\"data row83 col1\" >0</td>\n",
       "            </tr>\n",
       "            <tr>\n",
       "                        <th id=\"T_623f4c35_d155_11ec_92c4_e0d464800399level0_row84\" class=\"row_heading level0 row84\" >769</th>\n",
       "                        <td id=\"T_623f4c35_d155_11ec_92c4_e0d464800399row84_col0\" class=\"data row84 col0\" >Ольга Бузова стала почетным магистром клуба Что? Где? Когда?</td>\n",
       "                        <td id=\"T_623f4c35_d155_11ec_92c4_e0d464800399row84_col1\" class=\"data row84 col1\" >1</td>\n",
       "            </tr>\n",
       "            <tr>\n",
       "                        <th id=\"T_623f4c35_d155_11ec_92c4_e0d464800399level0_row85\" class=\"row_heading level0 row85\" >782</th>\n",
       "                        <td id=\"T_623f4c35_d155_11ec_92c4_e0d464800399row85_col0\" class=\"data row85 col0\" >Россиян разрешили кормить мучными червями</td>\n",
       "                        <td id=\"T_623f4c35_d155_11ec_92c4_e0d464800399row85_col1\" class=\"data row85 col1\" >1</td>\n",
       "            </tr>\n",
       "            <tr>\n",
       "                        <th id=\"T_623f4c35_d155_11ec_92c4_e0d464800399level0_row86\" class=\"row_heading level0 row86\" >783</th>\n",
       "                        <td id=\"T_623f4c35_d155_11ec_92c4_e0d464800399row86_col0\" class=\"data row86 col0\" >Театральные буфеты перестанут обслуживать иноагентов</td>\n",
       "                        <td id=\"T_623f4c35_d155_11ec_92c4_e0d464800399row86_col1\" class=\"data row86 col1\" >0</td>\n",
       "            </tr>\n",
       "            <tr>\n",
       "                        <th id=\"T_623f4c35_d155_11ec_92c4_e0d464800399level0_row87\" class=\"row_heading level0 row87\" >791</th>\n",
       "                        <td id=\"T_623f4c35_d155_11ec_92c4_e0d464800399row87_col0\" class=\"data row87 col0\" >Во Франции запретили фильм Ларса фон Триера «Антихрист»</td>\n",
       "                        <td id=\"T_623f4c35_d155_11ec_92c4_e0d464800399row87_col1\" class=\"data row87 col1\" >1</td>\n",
       "            </tr>\n",
       "            <tr>\n",
       "                        <th id=\"T_623f4c35_d155_11ec_92c4_e0d464800399level0_row88\" class=\"row_heading level0 row88\" >808</th>\n",
       "                        <td id=\"T_623f4c35_d155_11ec_92c4_e0d464800399row88_col0\" class=\"data row88 col0\" >Путин вручил госнаграду создателю сериала «Улицы разбитых фонарей»</td>\n",
       "                        <td id=\"T_623f4c35_d155_11ec_92c4_e0d464800399row88_col1\" class=\"data row88 col1\" >1</td>\n",
       "            </tr>\n",
       "            <tr>\n",
       "                        <th id=\"T_623f4c35_d155_11ec_92c4_e0d464800399level0_row89\" class=\"row_heading level0 row89\" >809</th>\n",
       "                        <td id=\"T_623f4c35_d155_11ec_92c4_e0d464800399row89_col0\" class=\"data row89 col0\" >Минкомсвязи выделит 450 миллионов рублей «Почте Крыма»</td>\n",
       "                        <td id=\"T_623f4c35_d155_11ec_92c4_e0d464800399row89_col1\" class=\"data row89 col1\" >0</td>\n",
       "            </tr>\n",
       "            <tr>\n",
       "                        <th id=\"T_623f4c35_d155_11ec_92c4_e0d464800399level0_row90\" class=\"row_heading level0 row90\" >812</th>\n",
       "                        <td id=\"T_623f4c35_d155_11ec_92c4_e0d464800399row90_col0\" class=\"data row90 col0\" >Полет Су-30 напомнит России о Чкалове</td>\n",
       "                        <td id=\"T_623f4c35_d155_11ec_92c4_e0d464800399row90_col1\" class=\"data row90 col1\" >0</td>\n",
       "            </tr>\n",
       "            <tr>\n",
       "                        <th id=\"T_623f4c35_d155_11ec_92c4_e0d464800399level0_row91\" class=\"row_heading level0 row91\" >824</th>\n",
       "                        <td id=\"T_623f4c35_d155_11ec_92c4_e0d464800399row91_col0\" class=\"data row91 col0\" >Мэрия Норильска запретила ежегодный гей-парад металлургов</td>\n",
       "                        <td id=\"T_623f4c35_d155_11ec_92c4_e0d464800399row91_col1\" class=\"data row91 col1\" >1</td>\n",
       "            </tr>\n",
       "            <tr>\n",
       "                        <th id=\"T_623f4c35_d155_11ec_92c4_e0d464800399level0_row92\" class=\"row_heading level0 row92\" >825</th>\n",
       "                        <td id=\"T_623f4c35_d155_11ec_92c4_e0d464800399row92_col0\" class=\"data row92 col0\" >Газпром предлагают заставить пускать независимых производителей к трубе без отказа</td>\n",
       "                        <td id=\"T_623f4c35_d155_11ec_92c4_e0d464800399row92_col1\" class=\"data row92 col1\" >0</td>\n",
       "            </tr>\n",
       "            <tr>\n",
       "                        <th id=\"T_623f4c35_d155_11ec_92c4_e0d464800399level0_row93\" class=\"row_heading level0 row93\" >841</th>\n",
       "                        <td id=\"T_623f4c35_d155_11ec_92c4_e0d464800399row93_col0\" class=\"data row93 col0\" >Наследница империи LOreal призвала ввести налог на богатых</td>\n",
       "                        <td id=\"T_623f4c35_d155_11ec_92c4_e0d464800399row93_col1\" class=\"data row93 col1\" >0</td>\n",
       "            </tr>\n",
       "            <tr>\n",
       "                        <th id=\"T_623f4c35_d155_11ec_92c4_e0d464800399level0_row94\" class=\"row_heading level0 row94\" >848</th>\n",
       "                        <td id=\"T_623f4c35_d155_11ec_92c4_e0d464800399row94_col0\" class=\"data row94 col0\" >Российскому режиссеру запретили возводить стену в центре Берлина</td>\n",
       "                        <td id=\"T_623f4c35_d155_11ec_92c4_e0d464800399row94_col1\" class=\"data row94 col1\" >1</td>\n",
       "            </tr>\n",
       "            <tr>\n",
       "                        <th id=\"T_623f4c35_d155_11ec_92c4_e0d464800399level0_row95\" class=\"row_heading level0 row95\" >857</th>\n",
       "                        <td id=\"T_623f4c35_d155_11ec_92c4_e0d464800399row95_col0\" class=\"data row95 col0\" >В России создадут институт полевых антиэкстремистских судов</td>\n",
       "                        <td id=\"T_623f4c35_d155_11ec_92c4_e0d464800399row95_col1\" class=\"data row95 col1\" >1</td>\n",
       "            </tr>\n",
       "            <tr>\n",
       "                        <th id=\"T_623f4c35_d155_11ec_92c4_e0d464800399level0_row96\" class=\"row_heading level0 row96\" >861</th>\n",
       "                        <td id=\"T_623f4c35_d155_11ec_92c4_e0d464800399row96_col0\" class=\"data row96 col0\" >Московским автовладельцам придется раскошелиться</td>\n",
       "                        <td id=\"T_623f4c35_d155_11ec_92c4_e0d464800399row96_col1\" class=\"data row96 col1\" >0</td>\n",
       "            </tr>\n",
       "            <tr>\n",
       "                        <th id=\"T_623f4c35_d155_11ec_92c4_e0d464800399level0_row97\" class=\"row_heading level0 row97\" >875</th>\n",
       "                        <td id=\"T_623f4c35_d155_11ec_92c4_e0d464800399row97_col0\" class=\"data row97 col0\" >Сценариста НТВ короновали в воры за сериал Точка фарта</td>\n",
       "                        <td id=\"T_623f4c35_d155_11ec_92c4_e0d464800399row97_col1\" class=\"data row97 col1\" >1</td>\n",
       "            </tr>\n",
       "            <tr>\n",
       "                        <th id=\"T_623f4c35_d155_11ec_92c4_e0d464800399level0_row98\" class=\"row_heading level0 row98\" >896</th>\n",
       "                        <td id=\"T_623f4c35_d155_11ec_92c4_e0d464800399row98_col0\" class=\"data row98 col0\" >Посвященные Pussy Riot рисунки сняли с феминистской выставки</td>\n",
       "                        <td id=\"T_623f4c35_d155_11ec_92c4_e0d464800399row98_col1\" class=\"data row98 col1\" >0</td>\n",
       "            </tr>\n",
       "            <tr>\n",
       "                        <th id=\"T_623f4c35_d155_11ec_92c4_e0d464800399level0_row99\" class=\"row_heading level0 row99\" >897</th>\n",
       "                        <td id=\"T_623f4c35_d155_11ec_92c4_e0d464800399row99_col0\" class=\"data row99 col0\" >Орландо Блум назначен послом доброй воли ЮНИСЕФ</td>\n",
       "                        <td id=\"T_623f4c35_d155_11ec_92c4_e0d464800399row99_col1\" class=\"data row99 col1\" >0</td>\n",
       "            </tr>\n",
       "            <tr>\n",
       "                        <th id=\"T_623f4c35_d155_11ec_92c4_e0d464800399level0_row100\" class=\"row_heading level0 row100\" >898</th>\n",
       "                        <td id=\"T_623f4c35_d155_11ec_92c4_e0d464800399row100_col0\" class=\"data row100 col0\" >Космонавт из Зимбабве заменит Юлию Пересильд в фильме «Вызов»</td>\n",
       "                        <td id=\"T_623f4c35_d155_11ec_92c4_e0d464800399row100_col1\" class=\"data row100 col1\" >1</td>\n",
       "            </tr>\n",
       "            <tr>\n",
       "                        <th id=\"T_623f4c35_d155_11ec_92c4_e0d464800399level0_row101\" class=\"row_heading level0 row101\" >900</th>\n",
       "                        <td id=\"T_623f4c35_d155_11ec_92c4_e0d464800399row101_col0\" class=\"data row101 col0\" >У динозавра с самым коротким именем нашли крылья летучей мыши</td>\n",
       "                        <td id=\"T_623f4c35_d155_11ec_92c4_e0d464800399row101_col1\" class=\"data row101 col1\" >0</td>\n",
       "            </tr>\n",
       "            <tr>\n",
       "                        <th id=\"T_623f4c35_d155_11ec_92c4_e0d464800399level0_row102\" class=\"row_heading level0 row102\" >902</th>\n",
       "                        <td id=\"T_623f4c35_d155_11ec_92c4_e0d464800399row102_col0\" class=\"data row102 col0\" >Власти обязали москвичей старше 65 лет спать в масках и перчатках</td>\n",
       "                        <td id=\"T_623f4c35_d155_11ec_92c4_e0d464800399row102_col1\" class=\"data row102 col1\" >1</td>\n",
       "            </tr>\n",
       "            <tr>\n",
       "                        <th id=\"T_623f4c35_d155_11ec_92c4_e0d464800399level0_row103\" class=\"row_heading level0 row103\" >916</th>\n",
       "                        <td id=\"T_623f4c35_d155_11ec_92c4_e0d464800399row103_col0\" class=\"data row103 col0\" >КПРФ признали экстремистской организацией</td>\n",
       "                        <td id=\"T_623f4c35_d155_11ec_92c4_e0d464800399row103_col1\" class=\"data row103 col1\" >1</td>\n",
       "            </tr>\n",
       "            <tr>\n",
       "                        <th id=\"T_623f4c35_d155_11ec_92c4_e0d464800399level0_row104\" class=\"row_heading level0 row104\" >923</th>\n",
       "                        <td id=\"T_623f4c35_d155_11ec_92c4_e0d464800399row104_col0\" class=\"data row104 col0\" >Деятели культуры заступились за дом Волконских</td>\n",
       "                        <td id=\"T_623f4c35_d155_11ec_92c4_e0d464800399row104_col1\" class=\"data row104 col1\" >0</td>\n",
       "            </tr>\n",
       "            <tr>\n",
       "                        <th id=\"T_623f4c35_d155_11ec_92c4_e0d464800399level0_row105\" class=\"row_heading level0 row105\" >930</th>\n",
       "                        <td id=\"T_623f4c35_d155_11ec_92c4_e0d464800399row105_col0\" class=\"data row105 col0\" >Сборная Германии по футболу потребовала у Польши открыть границу для беженцев</td>\n",
       "                        <td id=\"T_623f4c35_d155_11ec_92c4_e0d464800399row105_col1\" class=\"data row105 col1\" >0</td>\n",
       "            </tr>\n",
       "            <tr>\n",
       "                        <th id=\"T_623f4c35_d155_11ec_92c4_e0d464800399level0_row106\" class=\"row_heading level0 row106\" >934</th>\n",
       "                        <td id=\"T_623f4c35_d155_11ec_92c4_e0d464800399row106_col0\" class=\"data row106 col0\" >Робот Фёдор вступил в «Единую Россию»</td>\n",
       "                        <td id=\"T_623f4c35_d155_11ec_92c4_e0d464800399row106_col1\" class=\"data row106 col1\" >1</td>\n",
       "            </tr>\n",
       "            <tr>\n",
       "                        <th id=\"T_623f4c35_d155_11ec_92c4_e0d464800399level0_row107\" class=\"row_heading level0 row107\" >936</th>\n",
       "                        <td id=\"T_623f4c35_d155_11ec_92c4_e0d464800399row107_col0\" class=\"data row107 col0\" >Собянин предложил Крыму перейти на электробусы</td>\n",
       "                        <td id=\"T_623f4c35_d155_11ec_92c4_e0d464800399row107_col1\" class=\"data row107 col1\" >0</td>\n",
       "            </tr>\n",
       "            <tr>\n",
       "                        <th id=\"T_623f4c35_d155_11ec_92c4_e0d464800399level0_row108\" class=\"row_heading level0 row108\" >940</th>\n",
       "                        <td id=\"T_623f4c35_d155_11ec_92c4_e0d464800399row108_col0\" class=\"data row108 col0\" >Выросли продажи бензинов «Роснефти» на Петербургской международной бирже</td>\n",
       "                        <td id=\"T_623f4c35_d155_11ec_92c4_e0d464800399row108_col1\" class=\"data row108 col1\" >1</td>\n",
       "            </tr>\n",
       "            <tr>\n",
       "                        <th id=\"T_623f4c35_d155_11ec_92c4_e0d464800399level0_row109\" class=\"row_heading level0 row109\" >942</th>\n",
       "                        <td id=\"T_623f4c35_d155_11ec_92c4_e0d464800399row109_col0\" class=\"data row109 col0\" >Большой театр сохранил за Цискаридзе право на преподавание</td>\n",
       "                        <td id=\"T_623f4c35_d155_11ec_92c4_e0d464800399row109_col1\" class=\"data row109 col1\" >0</td>\n",
       "            </tr>\n",
       "            <tr>\n",
       "                        <th id=\"T_623f4c35_d155_11ec_92c4_e0d464800399level0_row110\" class=\"row_heading level0 row110\" >945</th>\n",
       "                        <td id=\"T_623f4c35_d155_11ec_92c4_e0d464800399row110_col0\" class=\"data row110 col0\" >Тренер российских волейболисток сохранит пост после неудачи на Олимпиаде</td>\n",
       "                        <td id=\"T_623f4c35_d155_11ec_92c4_e0d464800399row110_col1\" class=\"data row110 col1\" >0</td>\n",
       "            </tr>\n",
       "            <tr>\n",
       "                        <th id=\"T_623f4c35_d155_11ec_92c4_e0d464800399level0_row111\" class=\"row_heading level0 row111\" >949</th>\n",
       "                        <td id=\"T_623f4c35_d155_11ec_92c4_e0d464800399row111_col0\" class=\"data row111 col0\" >Юрий Семин готов взять в сборную натурализованных легионеров</td>\n",
       "                        <td id=\"T_623f4c35_d155_11ec_92c4_e0d464800399row111_col1\" class=\"data row111 col1\" >0</td>\n",
       "            </tr>\n",
       "            <tr>\n",
       "                        <th id=\"T_623f4c35_d155_11ec_92c4_e0d464800399level0_row112\" class=\"row_heading level0 row112\" >951</th>\n",
       "                        <td id=\"T_623f4c35_d155_11ec_92c4_e0d464800399row112_col0\" class=\"data row112 col0\" >Яндекс.Такси ввел функцию «Славянский водитель»</td>\n",
       "                        <td id=\"T_623f4c35_d155_11ec_92c4_e0d464800399row112_col1\" class=\"data row112 col1\" >1</td>\n",
       "            </tr>\n",
       "            <tr>\n",
       "                        <th id=\"T_623f4c35_d155_11ec_92c4_e0d464800399level0_row113\" class=\"row_heading level0 row113\" >966</th>\n",
       "                        <td id=\"T_623f4c35_d155_11ec_92c4_e0d464800399row113_col0\" class=\"data row113 col0\" >Россия вооружила Индию противолодочным Морским змеем</td>\n",
       "                        <td id=\"T_623f4c35_d155_11ec_92c4_e0d464800399row113_col1\" class=\"data row113 col1\" >0</td>\n",
       "            </tr>\n",
       "            <tr>\n",
       "                        <th id=\"T_623f4c35_d155_11ec_92c4_e0d464800399level0_row114\" class=\"row_heading level0 row114\" >967</th>\n",
       "                        <td id=\"T_623f4c35_d155_11ec_92c4_e0d464800399row114_col0\" class=\"data row114 col0\" >В музей Титаника в Нэшвилле передадут торпеду</td>\n",
       "                        <td id=\"T_623f4c35_d155_11ec_92c4_e0d464800399row114_col1\" class=\"data row114 col1\" >0</td>\n",
       "            </tr>\n",
       "            <tr>\n",
       "                        <th id=\"T_623f4c35_d155_11ec_92c4_e0d464800399level0_row115\" class=\"row_heading level0 row115\" >972</th>\n",
       "                        <td id=\"T_623f4c35_d155_11ec_92c4_e0d464800399row115_col0\" class=\"data row115 col0\" >Турецкий «Галатасарай» на год отстранили от еврокубков</td>\n",
       "                        <td id=\"T_623f4c35_d155_11ec_92c4_e0d464800399row115_col1\" class=\"data row115 col1\" >1</td>\n",
       "            </tr>\n",
       "            <tr>\n",
       "                        <th id=\"T_623f4c35_d155_11ec_92c4_e0d464800399level0_row116\" class=\"row_heading level0 row116\" >974</th>\n",
       "                        <td id=\"T_623f4c35_d155_11ec_92c4_e0d464800399row116_col0\" class=\"data row116 col0\" >Белоруссия откажется от российского электричества</td>\n",
       "                        <td id=\"T_623f4c35_d155_11ec_92c4_e0d464800399row116_col1\" class=\"data row116 col1\" >1</td>\n",
       "            </tr>\n",
       "            <tr>\n",
       "                        <th id=\"T_623f4c35_d155_11ec_92c4_e0d464800399level0_row117\" class=\"row_heading level0 row117\" >997</th>\n",
       "                        <td id=\"T_623f4c35_d155_11ec_92c4_e0d464800399row117_col0\" class=\"data row117 col0\" >СК возбудил дело против авиакомпании «Победа» за финансирование Навального</td>\n",
       "                        <td id=\"T_623f4c35_d155_11ec_92c4_e0d464800399row117_col1\" class=\"data row117 col1\" >1</td>\n",
       "            </tr>\n",
       "            <tr>\n",
       "                        <th id=\"T_623f4c35_d155_11ec_92c4_e0d464800399level0_row118\" class=\"row_heading level0 row118\" >999</th>\n",
       "                        <td id=\"T_623f4c35_d155_11ec_92c4_e0d464800399row118_col0\" class=\"data row118 col0\" >Deutsche Bahn заплатит рекордный штраф за чтение писем сотрудников</td>\n",
       "                        <td id=\"T_623f4c35_d155_11ec_92c4_e0d464800399row118_col1\" class=\"data row118 col1\" >1</td>\n",
       "            </tr>\n",
       "    </tbody></table>"
      ],
      "text/plain": [
       "<pandas.io.formats.style.Styler at 0x2ca68b64970>"
      ]
     },
     "execution_count": 39,
     "metadata": {},
     "output_type": "execute_result"
    }
   ],
   "source": [
    "df_bert = pd.read_csv(DATA_PATH.joinpath('test_bert.tsv'), sep='\\t')\n",
    "df_bert['use_is_fake'] = y_pred\n",
    "df_bert[df_bert['use_is_fake']!=df_bert['bert_is_fake']][['title', 'use_is_fake']].style.set_properties(subset=[\"title\"], **{\"width-min\": \"300px\"})"
   ]
  },
  {
   "cell_type": "markdown",
   "metadata": {},
   "source": [
    "## Вывод: Модель с USE показала немного лучший результат, чем BERT, при этом она более легкая, возьмем её"
   ]
  },
  {
   "cell_type": "code",
   "execution_count": 40,
   "metadata": {},
   "outputs": [],
   "source": [
    "df_test[['title', 'is_fake']].to_csv('predictions.tsv', sep='\\t')"
   ]
  }
 ],
 "metadata": {
  "kernelspec": {
   "display_name": "Python 3 (ipykernel)",
   "language": "python",
   "name": "python3"
  },
  "language_info": {
   "codemirror_mode": {
    "name": "ipython",
    "version": 3
   },
   "file_extension": ".py",
   "mimetype": "text/x-python",
   "name": "python",
   "nbconvert_exporter": "python",
   "pygments_lexer": "ipython3",
   "version": "3.8.5"
  }
 },
 "nbformat": 4,
 "nbformat_minor": 4
}
